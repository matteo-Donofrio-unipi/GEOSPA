{
 "cells": [
  {
   "cell_type": "code",
   "execution_count": 1,
   "metadata": {},
   "outputs": [
    {
     "name": "stderr",
     "output_type": "stream",
     "text": [
      "C:\\Users\\allen\\anaconda3\\lib\\site-packages\\pandas\\core\\computation\\expressions.py:21: UserWarning: Pandas requires version '2.7.3' or newer of 'numexpr' (version '2.7.1' currently installed).\n",
      "  from pandas.core.computation.check import NUMEXPR_INSTALLED\n"
     ]
    }
   ],
   "source": [
    "import matplotlib.pyplot as plt\n",
    "import time\n",
    "from mesa.batchrunner import batch_run\n",
    "import pandas as pd\n",
    "import numpy as np\n",
    "%matplotlib inline\n",
    "\n",
    "from model2 import SchellingModel\n"
   ]
  },
  {
   "cell_type": "markdown",
   "metadata": {},
   "source": [
    "#IL MODELLO, PER COME EFFETTUA LO STEP, CONSIDERA IL NEIGH ASSOLUTO => SE UN AGENTE è SOLO (NON HA NEIGH DI NESSUN TIPO) ALLORA è CONSIDERATO COME NON SODDISFATTO\n",
    "\n",
    "TESTARE IL NEIGH RELATIVO"
   ]
  },
  {
   "cell_type": "markdown",
   "metadata": {},
   "source": [
    "Now we instantiate a model instance: a 10x10 grid, with an 80% chance of an agent being placed in each cell, approximately 20% of agents set as minorities, and agents wanting at least 30% similar neighbors."
   ]
  },
  {
   "cell_type": "code",
   "execution_count": 2,
   "metadata": {},
   "outputs": [],
   "source": [
    "#[\"pure_random\",\"mild_random\",\"min_gain\",\"max_gain\"]\n",
    "#neighborhood_type = \"abs\"/\"rel\"\n",
    "model = SchellingModel(15, 0.7, 0.3, 0.3, \"max_gain\", neighborhood_type=\"abs\", verbose = 0, skip_if_not_happy = True)\n",
    "# side =10, density=0.7, minority_pc=0.3, homophily=0.3, verbose\n",
    "#minority: 0 = all blue, 1 = all red\n",
    "#cell type: 1 = red, 2 = blue "
   ]
  },
  {
   "cell_type": "code",
   "execution_count": 3,
   "metadata": {},
   "outputs": [
    {
     "data": {
      "image/png": "[encoded data removed]",
      "text/plain": [
       "<Figure size 432x288 with 1 Axes>"
      ]
     },
     "metadata": {
      "needs_background": "light"
     },
     "output_type": "display_data"
    }
   ],
   "source": [
    "model.show()"
   ]
  },
  {
   "cell_type": "markdown",
   "metadata": {},
   "source": [
    "We want to run the model until all the agents are happy with where they are. However, there's no guarentee that a given model instantiation will ever settle down. So let's run it for either 100 steps or until it stops on its own, whichever comes first:"
   ]
  },
  {
   "cell_type": "code",
   "execution_count": 4,
   "metadata": {},
   "outputs": [
    {
     "name": "stdout",
     "output_type": "stream",
     "text": [
      "Steps before stop condition\n",
      "5\n",
      "time elapsed\n",
      "1.9653923511505127\n"
     ]
    }
   ],
   "source": [
    "start = time.time()\n",
    "while model.running and model.schedule.steps < 200: #blu = 2, red = 1\n",
    "    model.step()\n",
    "end = time.time()\n",
    "print(\"Steps before stop condition\")\n",
    "print(model.schedule.steps) # Show how many steps have actually run\n",
    "\n",
    "print(\"time elapsed\")\n",
    "print(end-start)"
   ]
  },
  {
   "cell_type": "code",
   "execution_count": 5,
   "metadata": {},
   "outputs": [
    {
     "data": {
      "image/png": "[encoded data removed]",
      "text/plain": [
       "<Figure size 432x288 with 1 Axes>"
      ]
     },
     "metadata": {
      "needs_background": "light"
     },
     "output_type": "display_data"
    }
   ],
   "source": [
    "model.show()"
   ]
  },
  {
   "cell_type": "code",
   "execution_count": 25,
   "metadata": {},
   "outputs": [
    {
     "data": {
      "text/plain": [
       "3"
      ]
     },
     "execution_count": 25,
     "metadata": {},
     "output_type": "execute_result"
    }
   ],
   "source": [
    "model.schedule.steps"
   ]
  },
  {
   "cell_type": "code",
   "execution_count": 23,
   "metadata": {},
   "outputs": [
    {
     "data": {
      "text/plain": [
       "(2, 2)"
      ]
     },
     "execution_count": 23,
     "metadata": {},
     "output_type": "execute_result"
    }
   ],
   "source": [
    "model.schedule._agents[8].pos"
   ]
  },
  {
   "cell_type": "code",
   "execution_count": 22,
   "metadata": {},
   "outputs": [
    {
     "data": {
      "text/plain": [
       "0.25"
      ]
     },
     "execution_count": 22,
     "metadata": {},
     "output_type": "execute_result"
    }
   ],
   "source": [
    "model.schedule._agents[8].segregation"
   ]
  },
  {
   "cell_type": "code",
   "execution_count": 8,
   "metadata": {},
   "outputs": [
    {
     "data": {
      "text/plain": [
       "2"
      ]
     },
     "execution_count": 8,
     "metadata": {},
     "output_type": "execute_result"
    }
   ],
   "source": [
    "model.schedule._agents[0].type"
   ]
  },
  {
   "cell_type": "code",
   "execution_count": 6,
   "metadata": {},
   "outputs": [
    {
     "data": {
      "text/html": [
       "<div>\n",
       "<style scoped>\n",
       "    .dataframe tbody tr th:only-of-type {\n",
       "        vertical-align: middle;\n",
       "    }\n",
       "\n",
       "    .dataframe tbody tr th {\n",
       "        vertical-align: top;\n",
       "    }\n",
       "\n",
       "    .dataframe thead th {\n",
       "        text-align: right;\n",
       "    }\n",
       "</style>\n",
       "<table border=\"1\" class=\"dataframe\">\n",
       "  <thead>\n",
       "    <tr style=\"text-align: right;\">\n",
       "      <th></th>\n",
       "      <th>perc_happy</th>\n",
       "      <th>tot_seg</th>\n",
       "      <th>elapsed_step_time</th>\n",
       "      <th>elapsed_total_time</th>\n",
       "    </tr>\n",
       "  </thead>\n",
       "  <tbody>\n",
       "    <tr>\n",
       "      <th>0</th>\n",
       "      <td>0.67500</td>\n",
       "      <td>0.628906</td>\n",
       "      <td>1.703380</td>\n",
       "      <td>0.000000</td>\n",
       "    </tr>\n",
       "    <tr>\n",
       "      <th>1</th>\n",
       "      <td>0.97500</td>\n",
       "      <td>0.744531</td>\n",
       "      <td>0.160904</td>\n",
       "      <td>0.000000</td>\n",
       "    </tr>\n",
       "    <tr>\n",
       "      <th>2</th>\n",
       "      <td>0.98750</td>\n",
       "      <td>0.770312</td>\n",
       "      <td>0.070078</td>\n",
       "      <td>0.000000</td>\n",
       "    </tr>\n",
       "    <tr>\n",
       "      <th>3</th>\n",
       "      <td>0.99375</td>\n",
       "      <td>0.775781</td>\n",
       "      <td>0.029967</td>\n",
       "      <td>0.000000</td>\n",
       "    </tr>\n",
       "    <tr>\n",
       "      <th>4</th>\n",
       "      <td>1.00000</td>\n",
       "      <td>0.778125</td>\n",
       "      <td>0.000000</td>\n",
       "      <td>1.965392</td>\n",
       "    </tr>\n",
       "  </tbody>\n",
       "</table>\n",
       "</div>"
      ],
      "text/plain": [
       "   perc_happy   tot_seg  elapsed_step_time  elapsed_total_time\n",
       "0     0.67500  0.628906           1.703380            0.000000\n",
       "1     0.97500  0.744531           0.160904            0.000000\n",
       "2     0.98750  0.770312           0.070078            0.000000\n",
       "3     0.99375  0.775781           0.029967            0.000000\n",
       "4     1.00000  0.778125           0.000000            1.965392"
      ]
     },
     "execution_count": 6,
     "metadata": {},
     "output_type": "execute_result"
    }
   ],
   "source": [
    "#for each iter, compute and store the user def fun for the whole agents set\n",
    "r = model.datacollector.get_model_vars_dataframe()\n",
    "r"
   ]
  },
  {
   "cell_type": "code",
   "execution_count": 9,
   "metadata": {},
   "outputs": [
    {
     "data": {
      "text/plain": [
       "<AxesSubplot:>"
      ]
     },
     "execution_count": 9,
     "metadata": {},
     "output_type": "execute_result"
    },
    {
     "data": {
      "image/png": "[encoded data removed]",
      "text/plain": [
       "<Figure size 432x288 with 1 Axes>"
      ]
     },
     "metadata": {
      "needs_background": "light"
     },
     "output_type": "display_data"
    }
   ],
   "source": [
    "r['perc_happy'].plot()"
   ]
  },
  {
   "cell_type": "code",
   "execution_count": 10,
   "metadata": {},
   "outputs": [
    {
     "data": {
      "text/plain": [
       "<AxesSubplot:>"
      ]
     },
     "execution_count": 10,
     "metadata": {},
     "output_type": "execute_result"
    },
    {
     "data": {
      "image/png": "[encoded data removed]",
      "text/plain": [
       "<Figure size 432x288 with 1 Axes>"
      ]
     },
     "metadata": {
      "needs_background": "light"
     },
     "output_type": "display_data"
    }
   ],
   "source": [
    "r['tot_seg'].plot()"
   ]
  },
  {
   "cell_type": "code",
   "execution_count": 11,
   "metadata": {},
   "outputs": [
    {
     "data": {
      "text/plain": [
       "<AxesSubplot:>"
      ]
     },
     "execution_count": 11,
     "metadata": {},
     "output_type": "execute_result"
    },
    {
     "data": {
      "image/png": "[encoded data removed]",
      "text/plain": [
       "<Figure size 432x288 with 1 Axes>"
      ]
     },
     "metadata": {
      "needs_background": "light"
     },
     "output_type": "display_data"
    }
   ],
   "source": [
    "r['elapsed_step_time'].plot()"
   ]
  },
  {
   "cell_type": "code",
   "execution_count": 12,
   "metadata": {},
   "outputs": [
    {
     "data": {
      "text/html": [
       "<div>\n",
       "<style scoped>\n",
       "    .dataframe tbody tr th:only-of-type {\n",
       "        vertical-align: middle;\n",
       "    }\n",
       "\n",
       "    .dataframe tbody tr th {\n",
       "        vertical-align: top;\n",
       "    }\n",
       "\n",
       "    .dataframe thead th {\n",
       "        text-align: right;\n",
       "    }\n",
       "</style>\n",
       "<table border=\"1\" class=\"dataframe\">\n",
       "  <thead>\n",
       "    <tr style=\"text-align: right;\">\n",
       "      <th></th>\n",
       "      <th></th>\n",
       "      <th>x</th>\n",
       "      <th>y</th>\n",
       "      <th>segregation</th>\n",
       "    </tr>\n",
       "    <tr>\n",
       "      <th>Step</th>\n",
       "      <th>AgentID</th>\n",
       "      <th></th>\n",
       "      <th></th>\n",
       "      <th></th>\n",
       "    </tr>\n",
       "  </thead>\n",
       "  <tbody>\n",
       "    <tr>\n",
       "      <th rowspan=\"5\" valign=\"top\">1</th>\n",
       "      <th>0</th>\n",
       "      <td>6</td>\n",
       "      <td>7</td>\n",
       "      <td>0.375</td>\n",
       "    </tr>\n",
       "    <tr>\n",
       "      <th>1</th>\n",
       "      <td>12</td>\n",
       "      <td>1</td>\n",
       "      <td>0.750</td>\n",
       "    </tr>\n",
       "    <tr>\n",
       "      <th>2</th>\n",
       "      <td>0</td>\n",
       "      <td>5</td>\n",
       "      <td>0.500</td>\n",
       "    </tr>\n",
       "    <tr>\n",
       "      <th>3</th>\n",
       "      <td>0</td>\n",
       "      <td>6</td>\n",
       "      <td>0.500</td>\n",
       "    </tr>\n",
       "    <tr>\n",
       "      <th>4</th>\n",
       "      <td>0</td>\n",
       "      <td>9</td>\n",
       "      <td>0.375</td>\n",
       "    </tr>\n",
       "    <tr>\n",
       "      <th>...</th>\n",
       "      <th>...</th>\n",
       "      <td>...</td>\n",
       "      <td>...</td>\n",
       "      <td>...</td>\n",
       "    </tr>\n",
       "    <tr>\n",
       "      <th rowspan=\"5\" valign=\"top\">3</th>\n",
       "      <th>145</th>\n",
       "      <td>13</td>\n",
       "      <td>2</td>\n",
       "      <td>1.000</td>\n",
       "    </tr>\n",
       "    <tr>\n",
       "      <th>146</th>\n",
       "      <td>13</td>\n",
       "      <td>6</td>\n",
       "      <td>0.875</td>\n",
       "    </tr>\n",
       "    <tr>\n",
       "      <th>147</th>\n",
       "      <td>9</td>\n",
       "      <td>3</td>\n",
       "      <td>0.875</td>\n",
       "    </tr>\n",
       "    <tr>\n",
       "      <th>148</th>\n",
       "      <td>1</td>\n",
       "      <td>7</td>\n",
       "      <td>0.750</td>\n",
       "    </tr>\n",
       "    <tr>\n",
       "      <th>149</th>\n",
       "      <td>11</td>\n",
       "      <td>8</td>\n",
       "      <td>1.000</td>\n",
       "    </tr>\n",
       "  </tbody>\n",
       "</table>\n",
       "<p>450 rows × 3 columns</p>\n",
       "</div>"
      ],
      "text/plain": [
       "               x  y  segregation\n",
       "Step AgentID                    \n",
       "1    0         6  7        0.375\n",
       "     1        12  1        0.750\n",
       "     2         0  5        0.500\n",
       "     3         0  6        0.500\n",
       "     4         0  9        0.375\n",
       "...           .. ..          ...\n",
       "3    145      13  2        1.000\n",
       "     146      13  6        0.875\n",
       "     147       9  3        0.875\n",
       "     148       1  7        0.750\n",
       "     149      11  8        1.000\n",
       "\n",
       "[450 rows x 3 columns]"
      ]
     },
     "execution_count": 12,
     "metadata": {},
     "output_type": "execute_result"
    }
   ],
   "source": [
    "#for each iter, compute and store the user def fun for each agent\n",
    "r1 = model.datacollector.get_agent_vars_dataframe()\n",
    "r1"
   ]
  },
  {
   "cell_type": "code",
   "execution_count": 13,
   "metadata": {},
   "outputs": [
    {
     "data": {
      "text/plain": [
       "<AxesSubplot:xlabel='Step,AgentID'>"
      ]
     },
     "execution_count": 13,
     "metadata": {},
     "output_type": "execute_result"
    },
    {
     "data": {
      "image/png": "[encoded data removed]",
      "text/plain": [
       "<Figure size 432x288 with 1 Axes>"
      ]
     },
     "metadata": {
      "needs_background": "light"
     },
     "output_type": "display_data"
    }
   ],
   "source": [
    "r1['segregation'].plot()"
   ]
  },
  {
   "cell_type": "code",
   "execution_count": null,
   "metadata": {},
   "outputs": [],
   "source": []
  },
  {
   "cell_type": "markdown",
   "metadata": {},
   "source": [
    "BATCH RUN"
   ]
  },
  {
   "cell_type": "code",
   "execution_count": 7,
   "metadata": {},
   "outputs": [
    {
     "name": "stderr",
     "output_type": "stream",
     "text": [
      "100%|██████████████████████████████████████████████████████████████████████████████████| 96/96 [17:17<00:00, 10.81s/it]\n"
     ]
    }
   ],
   "source": [
    "#parameters = {\"side\": [8,10,12,14,16,18,20], \"density\": [0.2, 0.4, 0.6, 0.8], \"minority_pc\": [0.2, 0.4, 0.6, 0.8], \n",
    "#              \"homophily\": [0.2, 0.4, 0.6, 0.8], \"relocation_policy\":[\"pure_random\",\"mild_random\",\"max_gain\",\"min_gain\"],\n",
    "#              \"neighborhood_type\":[\"abs\",\"rel\"], \"skip_if_not_happy\":True}\n",
    "\n",
    "parameters = {\"side\": [5,10,15],\"homophily\": [0.2,0.4,0.6,0.8], \"relocation_policy\":[\"pure_random\",\"mild_random\",\"max_gain\",\"min_gain\"],\n",
    "              \"neighborhood_type\":[\"abs\",\"rel\"], \"skip_if_not_happy\":True}\n",
    "\n",
    "\n",
    "#Run a batch of 10 iterations for each of 8 configuration\n",
    "results = batch_run(\n",
    "    SchellingModel,\n",
    "    parameters=parameters,\n",
    "    iterations= 1,\n",
    "    max_steps=200,\n",
    "    number_processes=8,\n",
    "    data_collection_period=1,\n",
    "    display_progress=True,\n",
    ")"
   ]
  },
  {
   "cell_type": "code",
   "execution_count": 109,
   "metadata": {},
   "outputs": [],
   "source": [
    "homophily_set = [0.2,0.4,0.6,0.8]\n",
    "side_set = [5,10,15]\n",
    "relocation_policy_set = [\"pure_random\",\"mild_random\",\"max_gain\",\"min_gain\"]\n",
    "neighborhood_type_set = [\"abs\",\"rel\"]"
   ]
  },
  {
   "cell_type": "code",
   "execution_count": 8,
   "metadata": {},
   "outputs": [
    {
     "data": {
      "text/html": [
       "<div>\n",
       "<style scoped>\n",
       "    .dataframe tbody tr th:only-of-type {\n",
       "        vertical-align: middle;\n",
       "    }\n",
       "\n",
       "    .dataframe tbody tr th {\n",
       "        vertical-align: top;\n",
       "    }\n",
       "\n",
       "    .dataframe thead th {\n",
       "        text-align: right;\n",
       "    }\n",
       "</style>\n",
       "<table border=\"1\" class=\"dataframe\">\n",
       "  <thead>\n",
       "    <tr style=\"text-align: right;\">\n",
       "      <th></th>\n",
       "      <th>RunId</th>\n",
       "      <th>iteration</th>\n",
       "      <th>Step</th>\n",
       "      <th>side</th>\n",
       "      <th>homophily</th>\n",
       "      <th>relocation_policy</th>\n",
       "      <th>neighborhood_type</th>\n",
       "      <th>skip_if_not_happy</th>\n",
       "      <th>perc_happy</th>\n",
       "      <th>tot_seg</th>\n",
       "      <th>elapsed_step_time</th>\n",
       "      <th>elapsed_total_time</th>\n",
       "      <th>AgentID</th>\n",
       "      <th>x</th>\n",
       "      <th>y</th>\n",
       "      <th>segregation</th>\n",
       "    </tr>\n",
       "  </thead>\n",
       "  <tbody>\n",
       "    <tr>\n",
       "      <th>0</th>\n",
       "      <td>3</td>\n",
       "      <td>0</td>\n",
       "      <td>0</td>\n",
       "      <td>5</td>\n",
       "      <td>0.2</td>\n",
       "      <td>mild_random</td>\n",
       "      <td>rel</td>\n",
       "      <td>True</td>\n",
       "      <td>0.944444</td>\n",
       "      <td>0.735185</td>\n",
       "      <td>0.007618</td>\n",
       "      <td>0.000000</td>\n",
       "      <td>NaN</td>\n",
       "      <td>NaN</td>\n",
       "      <td>NaN</td>\n",
       "      <td>NaN</td>\n",
       "    </tr>\n",
       "    <tr>\n",
       "      <th>1</th>\n",
       "      <td>3</td>\n",
       "      <td>0</td>\n",
       "      <td>1</td>\n",
       "      <td>5</td>\n",
       "      <td>0.2</td>\n",
       "      <td>mild_random</td>\n",
       "      <td>rel</td>\n",
       "      <td>True</td>\n",
       "      <td>1.000000</td>\n",
       "      <td>0.766667</td>\n",
       "      <td>0.000000</td>\n",
       "      <td>0.007618</td>\n",
       "      <td>0.0</td>\n",
       "      <td>0.0</td>\n",
       "      <td>0.0</td>\n",
       "      <td>0.666667</td>\n",
       "    </tr>\n",
       "    <tr>\n",
       "      <th>2</th>\n",
       "      <td>3</td>\n",
       "      <td>0</td>\n",
       "      <td>1</td>\n",
       "      <td>5</td>\n",
       "      <td>0.2</td>\n",
       "      <td>mild_random</td>\n",
       "      <td>rel</td>\n",
       "      <td>True</td>\n",
       "      <td>1.000000</td>\n",
       "      <td>0.766667</td>\n",
       "      <td>0.000000</td>\n",
       "      <td>0.007618</td>\n",
       "      <td>1.0</td>\n",
       "      <td>0.0</td>\n",
       "      <td>1.0</td>\n",
       "      <td>0.800000</td>\n",
       "    </tr>\n",
       "    <tr>\n",
       "      <th>3</th>\n",
       "      <td>3</td>\n",
       "      <td>0</td>\n",
       "      <td>1</td>\n",
       "      <td>5</td>\n",
       "      <td>0.2</td>\n",
       "      <td>mild_random</td>\n",
       "      <td>rel</td>\n",
       "      <td>True</td>\n",
       "      <td>1.000000</td>\n",
       "      <td>0.766667</td>\n",
       "      <td>0.000000</td>\n",
       "      <td>0.007618</td>\n",
       "      <td>2.0</td>\n",
       "      <td>0.0</td>\n",
       "      <td>2.0</td>\n",
       "      <td>0.800000</td>\n",
       "    </tr>\n",
       "    <tr>\n",
       "      <th>4</th>\n",
       "      <td>3</td>\n",
       "      <td>0</td>\n",
       "      <td>1</td>\n",
       "      <td>5</td>\n",
       "      <td>0.2</td>\n",
       "      <td>mild_random</td>\n",
       "      <td>rel</td>\n",
       "      <td>True</td>\n",
       "      <td>1.000000</td>\n",
       "      <td>0.766667</td>\n",
       "      <td>0.000000</td>\n",
       "      <td>0.007618</td>\n",
       "      <td>3.0</td>\n",
       "      <td>0.0</td>\n",
       "      <td>3.0</td>\n",
       "      <td>1.000000</td>\n",
       "    </tr>\n",
       "    <tr>\n",
       "      <th>...</th>\n",
       "      <td>...</td>\n",
       "      <td>...</td>\n",
       "      <td>...</td>\n",
       "      <td>...</td>\n",
       "      <td>...</td>\n",
       "      <td>...</td>\n",
       "      <td>...</td>\n",
       "      <td>...</td>\n",
       "      <td>...</td>\n",
       "      <td>...</td>\n",
       "      <td>...</td>\n",
       "      <td>...</td>\n",
       "      <td>...</td>\n",
       "      <td>...</td>\n",
       "      <td>...</td>\n",
       "      <td>...</td>\n",
       "    </tr>\n",
       "    <tr>\n",
       "      <th>710550</th>\n",
       "      <td>92</td>\n",
       "      <td>0</td>\n",
       "      <td>200</td>\n",
       "      <td>15</td>\n",
       "      <td>0.8</td>\n",
       "      <td>max_gain</td>\n",
       "      <td>abs</td>\n",
       "      <td>True</td>\n",
       "      <td>0.000000</td>\n",
       "      <td>0.656463</td>\n",
       "      <td>1.973053</td>\n",
       "      <td>630.355698</td>\n",
       "      <td>142.0</td>\n",
       "      <td>14.0</td>\n",
       "      <td>8.0</td>\n",
       "      <td>0.500000</td>\n",
       "    </tr>\n",
       "    <tr>\n",
       "      <th>710551</th>\n",
       "      <td>92</td>\n",
       "      <td>0</td>\n",
       "      <td>200</td>\n",
       "      <td>15</td>\n",
       "      <td>0.8</td>\n",
       "      <td>max_gain</td>\n",
       "      <td>abs</td>\n",
       "      <td>True</td>\n",
       "      <td>0.000000</td>\n",
       "      <td>0.656463</td>\n",
       "      <td>1.973053</td>\n",
       "      <td>630.355698</td>\n",
       "      <td>143.0</td>\n",
       "      <td>14.0</td>\n",
       "      <td>9.0</td>\n",
       "      <td>0.750000</td>\n",
       "    </tr>\n",
       "    <tr>\n",
       "      <th>710552</th>\n",
       "      <td>92</td>\n",
       "      <td>0</td>\n",
       "      <td>200</td>\n",
       "      <td>15</td>\n",
       "      <td>0.8</td>\n",
       "      <td>max_gain</td>\n",
       "      <td>abs</td>\n",
       "      <td>True</td>\n",
       "      <td>0.000000</td>\n",
       "      <td>0.656463</td>\n",
       "      <td>1.973053</td>\n",
       "      <td>630.355698</td>\n",
       "      <td>144.0</td>\n",
       "      <td>14.0</td>\n",
       "      <td>11.0</td>\n",
       "      <td>0.500000</td>\n",
       "    </tr>\n",
       "    <tr>\n",
       "      <th>710553</th>\n",
       "      <td>92</td>\n",
       "      <td>0</td>\n",
       "      <td>200</td>\n",
       "      <td>15</td>\n",
       "      <td>0.8</td>\n",
       "      <td>max_gain</td>\n",
       "      <td>abs</td>\n",
       "      <td>True</td>\n",
       "      <td>0.000000</td>\n",
       "      <td>0.656463</td>\n",
       "      <td>1.973053</td>\n",
       "      <td>630.355698</td>\n",
       "      <td>145.0</td>\n",
       "      <td>14.0</td>\n",
       "      <td>12.0</td>\n",
       "      <td>0.750000</td>\n",
       "    </tr>\n",
       "    <tr>\n",
       "      <th>710554</th>\n",
       "      <td>92</td>\n",
       "      <td>0</td>\n",
       "      <td>200</td>\n",
       "      <td>15</td>\n",
       "      <td>0.8</td>\n",
       "      <td>max_gain</td>\n",
       "      <td>abs</td>\n",
       "      <td>True</td>\n",
       "      <td>0.000000</td>\n",
       "      <td>0.656463</td>\n",
       "      <td>1.973053</td>\n",
       "      <td>630.355698</td>\n",
       "      <td>146.0</td>\n",
       "      <td>14.0</td>\n",
       "      <td>13.0</td>\n",
       "      <td>0.750000</td>\n",
       "    </tr>\n",
       "  </tbody>\n",
       "</table>\n",
       "<p>710555 rows × 16 columns</p>\n",
       "</div>"
      ],
      "text/plain": [
       "        RunId  iteration  Step  side  homophily relocation_policy  \\\n",
       "0           3          0     0     5        0.2       mild_random   \n",
       "1           3          0     1     5        0.2       mild_random   \n",
       "2           3          0     1     5        0.2       mild_random   \n",
       "3           3          0     1     5        0.2       mild_random   \n",
       "4           3          0     1     5        0.2       mild_random   \n",
       "...       ...        ...   ...   ...        ...               ...   \n",
       "710550     92          0   200    15        0.8          max_gain   \n",
       "710551     92          0   200    15        0.8          max_gain   \n",
       "710552     92          0   200    15        0.8          max_gain   \n",
       "710553     92          0   200    15        0.8          max_gain   \n",
       "710554     92          0   200    15        0.8          max_gain   \n",
       "\n",
       "       neighborhood_type  skip_if_not_happy  perc_happy   tot_seg  \\\n",
       "0                    rel               True    0.944444  0.735185   \n",
       "1                    rel               True    1.000000  0.766667   \n",
       "2                    rel               True    1.000000  0.766667   \n",
       "3                    rel               True    1.000000  0.766667   \n",
       "4                    rel               True    1.000000  0.766667   \n",
       "...                  ...                ...         ...       ...   \n",
       "710550               abs               True    0.000000  0.656463   \n",
       "710551               abs               True    0.000000  0.656463   \n",
       "710552               abs               True    0.000000  0.656463   \n",
       "710553               abs               True    0.000000  0.656463   \n",
       "710554               abs               True    0.000000  0.656463   \n",
       "\n",
       "        elapsed_step_time  elapsed_total_time  AgentID     x     y  \\\n",
       "0                0.007618            0.000000      NaN   NaN   NaN   \n",
       "1                0.000000            0.007618      0.0   0.0   0.0   \n",
       "2                0.000000            0.007618      1.0   0.0   1.0   \n",
       "3                0.000000            0.007618      2.0   0.0   2.0   \n",
       "4                0.000000            0.007618      3.0   0.0   3.0   \n",
       "...                   ...                 ...      ...   ...   ...   \n",
       "710550           1.973053          630.355698    142.0  14.0   8.0   \n",
       "710551           1.973053          630.355698    143.0  14.0   9.0   \n",
       "710552           1.973053          630.355698    144.0  14.0  11.0   \n",
       "710553           1.973053          630.355698    145.0  14.0  12.0   \n",
       "710554           1.973053          630.355698    146.0  14.0  13.0   \n",
       "\n",
       "        segregation  \n",
       "0               NaN  \n",
       "1          0.666667  \n",
       "2          0.800000  \n",
       "3          0.800000  \n",
       "4          1.000000  \n",
       "...             ...  \n",
       "710550     0.500000  \n",
       "710551     0.750000  \n",
       "710552     0.500000  \n",
       "710553     0.750000  \n",
       "710554     0.750000  \n",
       "\n",
       "[710555 rows x 16 columns]"
      ]
     },
     "execution_count": 8,
     "metadata": {},
     "output_type": "execute_result"
    }
   ],
   "source": [
    "df = pd.DataFrame(results)\n",
    "df"
   ]
  },
  {
   "cell_type": "code",
   "execution_count": 21,
   "metadata": {},
   "outputs": [],
   "source": [
    "df.to_csv('df_computed',index=False)"
   ]
  },
  {
   "cell_type": "code",
   "execution_count": null,
   "metadata": {},
   "outputs": [],
   "source": []
  },
  {
   "cell_type": "code",
   "execution_count": 9,
   "metadata": {},
   "outputs": [
    {
     "data": {
      "text/plain": [
       "<AxesSubplot:>"
      ]
     },
     "execution_count": 9,
     "metadata": {},
     "output_type": "execute_result"
    },
    {
     "data": {
      "image/png": "[encoded data removed]",
      "text/plain": [
       "<Figure size 432x288 with 1 Axes>"
      ]
     },
     "metadata": {
      "needs_background": "light"
     },
     "output_type": "display_data"
    }
   ],
   "source": [
    "df.Step.plot()"
   ]
  },
  {
   "cell_type": "code",
   "execution_count": 10,
   "metadata": {},
   "outputs": [
    {
     "data": {
      "text/plain": [
       "<AxesSubplot:>"
      ]
     },
     "execution_count": 10,
     "metadata": {},
     "output_type": "execute_result"
    },
    {
     "data": {
      "image/png": "[encoded data removed]",
      "text/plain": [
       "<Figure size 432x288 with 1 Axes>"
      ]
     },
     "metadata": {
      "needs_background": "light"
     },
     "output_type": "display_data"
    }
   ],
   "source": [
    "df.RunId.plot()"
   ]
  },
  {
   "cell_type": "code",
   "execution_count": 11,
   "metadata": {
    "scrolled": true
   },
   "outputs": [
    {
     "data": {
      "text/html": [
       "<div>\n",
       "<style scoped>\n",
       "    .dataframe tbody tr th:only-of-type {\n",
       "        vertical-align: middle;\n",
       "    }\n",
       "\n",
       "    .dataframe tbody tr th {\n",
       "        vertical-align: top;\n",
       "    }\n",
       "\n",
       "    .dataframe thead th {\n",
       "        text-align: right;\n",
       "    }\n",
       "</style>\n",
       "<table border=\"1\" class=\"dataframe\">\n",
       "  <thead>\n",
       "    <tr style=\"text-align: right;\">\n",
       "      <th></th>\n",
       "      <th>RunId</th>\n",
       "      <th>Step</th>\n",
       "      <th>side</th>\n",
       "      <th>homophily</th>\n",
       "      <th>relocation_policy</th>\n",
       "      <th>neighborhood_type</th>\n",
       "      <th>perc_happy</th>\n",
       "      <th>tot_seg</th>\n",
       "      <th>elapsed_step_time</th>\n",
       "      <th>elapsed_total_time</th>\n",
       "      <th>AgentID</th>\n",
       "      <th>segregation</th>\n",
       "    </tr>\n",
       "  </thead>\n",
       "  <tbody>\n",
       "    <tr>\n",
       "      <th>0</th>\n",
       "      <td>3</td>\n",
       "      <td>0</td>\n",
       "      <td>5</td>\n",
       "      <td>0.2</td>\n",
       "      <td>mild_random</td>\n",
       "      <td>rel</td>\n",
       "      <td>0.944444</td>\n",
       "      <td>0.735185</td>\n",
       "      <td>0.007618</td>\n",
       "      <td>0.000000</td>\n",
       "      <td>NaN</td>\n",
       "      <td>NaN</td>\n",
       "    </tr>\n",
       "    <tr>\n",
       "      <th>1</th>\n",
       "      <td>3</td>\n",
       "      <td>1</td>\n",
       "      <td>5</td>\n",
       "      <td>0.2</td>\n",
       "      <td>mild_random</td>\n",
       "      <td>rel</td>\n",
       "      <td>1.000000</td>\n",
       "      <td>0.766667</td>\n",
       "      <td>0.000000</td>\n",
       "      <td>0.007618</td>\n",
       "      <td>0.0</td>\n",
       "      <td>0.666667</td>\n",
       "    </tr>\n",
       "    <tr>\n",
       "      <th>2</th>\n",
       "      <td>3</td>\n",
       "      <td>1</td>\n",
       "      <td>5</td>\n",
       "      <td>0.2</td>\n",
       "      <td>mild_random</td>\n",
       "      <td>rel</td>\n",
       "      <td>1.000000</td>\n",
       "      <td>0.766667</td>\n",
       "      <td>0.000000</td>\n",
       "      <td>0.007618</td>\n",
       "      <td>1.0</td>\n",
       "      <td>0.800000</td>\n",
       "    </tr>\n",
       "    <tr>\n",
       "      <th>3</th>\n",
       "      <td>3</td>\n",
       "      <td>1</td>\n",
       "      <td>5</td>\n",
       "      <td>0.2</td>\n",
       "      <td>mild_random</td>\n",
       "      <td>rel</td>\n",
       "      <td>1.000000</td>\n",
       "      <td>0.766667</td>\n",
       "      <td>0.000000</td>\n",
       "      <td>0.007618</td>\n",
       "      <td>2.0</td>\n",
       "      <td>0.800000</td>\n",
       "    </tr>\n",
       "    <tr>\n",
       "      <th>4</th>\n",
       "      <td>3</td>\n",
       "      <td>1</td>\n",
       "      <td>5</td>\n",
       "      <td>0.2</td>\n",
       "      <td>mild_random</td>\n",
       "      <td>rel</td>\n",
       "      <td>1.000000</td>\n",
       "      <td>0.766667</td>\n",
       "      <td>0.000000</td>\n",
       "      <td>0.007618</td>\n",
       "      <td>3.0</td>\n",
       "      <td>1.000000</td>\n",
       "    </tr>\n",
       "    <tr>\n",
       "      <th>...</th>\n",
       "      <td>...</td>\n",
       "      <td>...</td>\n",
       "      <td>...</td>\n",
       "      <td>...</td>\n",
       "      <td>...</td>\n",
       "      <td>...</td>\n",
       "      <td>...</td>\n",
       "      <td>...</td>\n",
       "      <td>...</td>\n",
       "      <td>...</td>\n",
       "      <td>...</td>\n",
       "      <td>...</td>\n",
       "    </tr>\n",
       "    <tr>\n",
       "      <th>710550</th>\n",
       "      <td>92</td>\n",
       "      <td>200</td>\n",
       "      <td>15</td>\n",
       "      <td>0.8</td>\n",
       "      <td>max_gain</td>\n",
       "      <td>abs</td>\n",
       "      <td>0.000000</td>\n",
       "      <td>0.656463</td>\n",
       "      <td>1.973053</td>\n",
       "      <td>630.355698</td>\n",
       "      <td>142.0</td>\n",
       "      <td>0.500000</td>\n",
       "    </tr>\n",
       "    <tr>\n",
       "      <th>710551</th>\n",
       "      <td>92</td>\n",
       "      <td>200</td>\n",
       "      <td>15</td>\n",
       "      <td>0.8</td>\n",
       "      <td>max_gain</td>\n",
       "      <td>abs</td>\n",
       "      <td>0.000000</td>\n",
       "      <td>0.656463</td>\n",
       "      <td>1.973053</td>\n",
       "      <td>630.355698</td>\n",
       "      <td>143.0</td>\n",
       "      <td>0.750000</td>\n",
       "    </tr>\n",
       "    <tr>\n",
       "      <th>710552</th>\n",
       "      <td>92</td>\n",
       "      <td>200</td>\n",
       "      <td>15</td>\n",
       "      <td>0.8</td>\n",
       "      <td>max_gain</td>\n",
       "      <td>abs</td>\n",
       "      <td>0.000000</td>\n",
       "      <td>0.656463</td>\n",
       "      <td>1.973053</td>\n",
       "      <td>630.355698</td>\n",
       "      <td>144.0</td>\n",
       "      <td>0.500000</td>\n",
       "    </tr>\n",
       "    <tr>\n",
       "      <th>710553</th>\n",
       "      <td>92</td>\n",
       "      <td>200</td>\n",
       "      <td>15</td>\n",
       "      <td>0.8</td>\n",
       "      <td>max_gain</td>\n",
       "      <td>abs</td>\n",
       "      <td>0.000000</td>\n",
       "      <td>0.656463</td>\n",
       "      <td>1.973053</td>\n",
       "      <td>630.355698</td>\n",
       "      <td>145.0</td>\n",
       "      <td>0.750000</td>\n",
       "    </tr>\n",
       "    <tr>\n",
       "      <th>710554</th>\n",
       "      <td>92</td>\n",
       "      <td>200</td>\n",
       "      <td>15</td>\n",
       "      <td>0.8</td>\n",
       "      <td>max_gain</td>\n",
       "      <td>abs</td>\n",
       "      <td>0.000000</td>\n",
       "      <td>0.656463</td>\n",
       "      <td>1.973053</td>\n",
       "      <td>630.355698</td>\n",
       "      <td>146.0</td>\n",
       "      <td>0.750000</td>\n",
       "    </tr>\n",
       "  </tbody>\n",
       "</table>\n",
       "<p>710555 rows × 12 columns</p>\n",
       "</div>"
      ],
      "text/plain": [
       "        RunId  Step  side  homophily relocation_policy neighborhood_type  \\\n",
       "0           3     0     5        0.2       mild_random               rel   \n",
       "1           3     1     5        0.2       mild_random               rel   \n",
       "2           3     1     5        0.2       mild_random               rel   \n",
       "3           3     1     5        0.2       mild_random               rel   \n",
       "4           3     1     5        0.2       mild_random               rel   \n",
       "...       ...   ...   ...        ...               ...               ...   \n",
       "710550     92   200    15        0.8          max_gain               abs   \n",
       "710551     92   200    15        0.8          max_gain               abs   \n",
       "710552     92   200    15        0.8          max_gain               abs   \n",
       "710553     92   200    15        0.8          max_gain               abs   \n",
       "710554     92   200    15        0.8          max_gain               abs   \n",
       "\n",
       "        perc_happy   tot_seg  elapsed_step_time  elapsed_total_time  AgentID  \\\n",
       "0         0.944444  0.735185           0.007618            0.000000      NaN   \n",
       "1         1.000000  0.766667           0.000000            0.007618      0.0   \n",
       "2         1.000000  0.766667           0.000000            0.007618      1.0   \n",
       "3         1.000000  0.766667           0.000000            0.007618      2.0   \n",
       "4         1.000000  0.766667           0.000000            0.007618      3.0   \n",
       "...            ...       ...                ...                 ...      ...   \n",
       "710550    0.000000  0.656463           1.973053          630.355698    142.0   \n",
       "710551    0.000000  0.656463           1.973053          630.355698    143.0   \n",
       "710552    0.000000  0.656463           1.973053          630.355698    144.0   \n",
       "710553    0.000000  0.656463           1.973053          630.355698    145.0   \n",
       "710554    0.000000  0.656463           1.973053          630.355698    146.0   \n",
       "\n",
       "        segregation  \n",
       "0               NaN  \n",
       "1          0.666667  \n",
       "2          0.800000  \n",
       "3          0.800000  \n",
       "4          1.000000  \n",
       "...             ...  \n",
       "710550     0.500000  \n",
       "710551     0.750000  \n",
       "710552     0.500000  \n",
       "710553     0.750000  \n",
       "710554     0.750000  \n",
       "\n",
       "[710555 rows x 12 columns]"
      ]
     },
     "execution_count": 11,
     "metadata": {},
     "output_type": "execute_result"
    }
   ],
   "source": [
    "df2 = df.drop(['skip_if_not_happy', 'x','y','iteration'], axis=1)\n",
    "df2"
   ]
  },
  {
   "cell_type": "code",
   "execution_count": 82,
   "metadata": {},
   "outputs": [
    {
     "data": {
      "text/plain": [
       "0.014336824417114258"
      ]
     },
     "execution_count": 82,
     "metadata": {},
     "output_type": "execute_result"
    }
   ],
   "source": [
    "p1 = df2[(df2[\"side\"]==5) & (df2[\"homophily\"]==0.2) & (df2[\"neighborhood_type\"]==\"rel\")]\n",
    "p1\n",
    "p1[p1[\"relocation_policy\"]==\"pure_random\"].elapsed_total_time.max()"
   ]
  },
  {
   "cell_type": "code",
   "execution_count": 102,
   "metadata": {},
   "outputs": [
    {
     "data": {
      "text/html": [
       "<div>\n",
       "<style scoped>\n",
       "    .dataframe tbody tr th:only-of-type {\n",
       "        vertical-align: middle;\n",
       "    }\n",
       "\n",
       "    .dataframe tbody tr th {\n",
       "        vertical-align: top;\n",
       "    }\n",
       "\n",
       "    .dataframe thead th {\n",
       "        text-align: right;\n",
       "    }\n",
       "</style>\n",
       "<table border=\"1\" class=\"dataframe\">\n",
       "  <thead>\n",
       "    <tr style=\"text-align: right;\">\n",
       "      <th></th>\n",
       "      <th></th>\n",
       "      <th>elapsed_step_time</th>\n",
       "    </tr>\n",
       "    <tr>\n",
       "      <th>homophily</th>\n",
       "      <th>relocation_policy</th>\n",
       "      <th></th>\n",
       "    </tr>\n",
       "  </thead>\n",
       "  <tbody>\n",
       "    <tr>\n",
       "      <th rowspan=\"4\" valign=\"top\">0.2</th>\n",
       "      <th>max_gain</th>\n",
       "      <td>0.370654</td>\n",
       "    </tr>\n",
       "    <tr>\n",
       "      <th>mild_random</th>\n",
       "      <td>0.519589</td>\n",
       "    </tr>\n",
       "    <tr>\n",
       "      <th>min_gain</th>\n",
       "      <td>0.859116</td>\n",
       "    </tr>\n",
       "    <tr>\n",
       "      <th>pure_random</th>\n",
       "      <td>0.010226</td>\n",
       "    </tr>\n",
       "    <tr>\n",
       "      <th rowspan=\"4\" valign=\"top\">0.4</th>\n",
       "      <th>max_gain</th>\n",
       "      <td>1.694049</td>\n",
       "    </tr>\n",
       "    <tr>\n",
       "      <th>mild_random</th>\n",
       "      <td>1.670269</td>\n",
       "    </tr>\n",
       "    <tr>\n",
       "      <th>min_gain</th>\n",
       "      <td>2.088551</td>\n",
       "    </tr>\n",
       "    <tr>\n",
       "      <th>pure_random</th>\n",
       "      <td>0.008663</td>\n",
       "    </tr>\n",
       "    <tr>\n",
       "      <th rowspan=\"4\" valign=\"top\">0.6</th>\n",
       "      <th>max_gain</th>\n",
       "      <td>2.155830</td>\n",
       "    </tr>\n",
       "    <tr>\n",
       "      <th>mild_random</th>\n",
       "      <td>2.588654</td>\n",
       "    </tr>\n",
       "    <tr>\n",
       "      <th>min_gain</th>\n",
       "      <td>3.604587</td>\n",
       "    </tr>\n",
       "    <tr>\n",
       "      <th>pure_random</th>\n",
       "      <td>0.010275</td>\n",
       "    </tr>\n",
       "    <tr>\n",
       "      <th rowspan=\"4\" valign=\"top\">0.8</th>\n",
       "      <th>max_gain</th>\n",
       "      <td>2.710554</td>\n",
       "    </tr>\n",
       "    <tr>\n",
       "      <th>mild_random</th>\n",
       "      <td>3.579922</td>\n",
       "    </tr>\n",
       "    <tr>\n",
       "      <th>min_gain</th>\n",
       "      <td>2.619697</td>\n",
       "    </tr>\n",
       "    <tr>\n",
       "      <th>pure_random</th>\n",
       "      <td>0.012151</td>\n",
       "    </tr>\n",
       "  </tbody>\n",
       "</table>\n",
       "</div>"
      ],
      "text/plain": [
       "                             elapsed_step_time\n",
       "homophily relocation_policy                   \n",
       "0.2       max_gain                    0.370654\n",
       "          mild_random                 0.519589\n",
       "          min_gain                    0.859116\n",
       "          pure_random                 0.010226\n",
       "0.4       max_gain                    1.694049\n",
       "          mild_random                 1.670269\n",
       "          min_gain                    2.088551\n",
       "          pure_random                 0.008663\n",
       "0.6       max_gain                    2.155830\n",
       "          mild_random                 2.588654\n",
       "          min_gain                    3.604587\n",
       "          pure_random                 0.010275\n",
       "0.8       max_gain                    2.710554\n",
       "          mild_random                 3.579922\n",
       "          min_gain                    2.619697\n",
       "          pure_random                 0.012151"
      ]
     },
     "execution_count": 102,
     "metadata": {},
     "output_type": "execute_result"
    }
   ],
   "source": [
    "p2 = df2[(df2[\"side\"]==15) & (df2[\"neighborhood_type\"]==\"rel\")]\n",
    "r = p2.groupby([\"homophily\",\"relocation_policy\"]).max()[[\"elapsed_step_time\"]]\n",
    "r"
   ]
  },
  {
   "cell_type": "code",
   "execution_count": 142,
   "metadata": {},
   "outputs": [
    {
     "data": {
      "text/html": [
       "<div>\n",
       "<style scoped>\n",
       "    .dataframe tbody tr th:only-of-type {\n",
       "        vertical-align: middle;\n",
       "    }\n",
       "\n",
       "    .dataframe tbody tr th {\n",
       "        vertical-align: top;\n",
       "    }\n",
       "\n",
       "    .dataframe thead th {\n",
       "        text-align: right;\n",
       "    }\n",
       "</style>\n",
       "<table border=\"1\" class=\"dataframe\">\n",
       "  <thead>\n",
       "    <tr style=\"text-align: right;\">\n",
       "      <th></th>\n",
       "      <th></th>\n",
       "      <th>elapsed_total_time</th>\n",
       "    </tr>\n",
       "    <tr>\n",
       "      <th>homophily</th>\n",
       "      <th>relocation_policy</th>\n",
       "      <th></th>\n",
       "    </tr>\n",
       "  </thead>\n",
       "  <tbody>\n",
       "    <tr>\n",
       "      <th rowspan=\"4\" valign=\"top\">0.2</th>\n",
       "      <th>max_gain</th>\n",
       "      <td>0.377298</td>\n",
       "    </tr>\n",
       "    <tr>\n",
       "      <th>mild_random</th>\n",
       "      <td>0.634200</td>\n",
       "    </tr>\n",
       "    <tr>\n",
       "      <th>min_gain</th>\n",
       "      <td>1.005354</td>\n",
       "    </tr>\n",
       "    <tr>\n",
       "      <th>pure_random</th>\n",
       "      <td>0.056675</td>\n",
       "    </tr>\n",
       "    <tr>\n",
       "      <th rowspan=\"4\" valign=\"top\">0.4</th>\n",
       "      <th>max_gain</th>\n",
       "      <td>1.809642</td>\n",
       "    </tr>\n",
       "    <tr>\n",
       "      <th>mild_random</th>\n",
       "      <td>1.942543</td>\n",
       "    </tr>\n",
       "    <tr>\n",
       "      <th>min_gain</th>\n",
       "      <td>3.078816</td>\n",
       "    </tr>\n",
       "    <tr>\n",
       "      <th>pure_random</th>\n",
       "      <td>0.082074</td>\n",
       "    </tr>\n",
       "    <tr>\n",
       "      <th rowspan=\"4\" valign=\"top\">0.6</th>\n",
       "      <th>max_gain</th>\n",
       "      <td>2.790313</td>\n",
       "    </tr>\n",
       "    <tr>\n",
       "      <th>mild_random</th>\n",
       "      <td>3.172629</td>\n",
       "    </tr>\n",
       "    <tr>\n",
       "      <th>min_gain</th>\n",
       "      <td>5.111782</td>\n",
       "    </tr>\n",
       "    <tr>\n",
       "      <th>pure_random</th>\n",
       "      <td>0.049957</td>\n",
       "    </tr>\n",
       "    <tr>\n",
       "      <th rowspan=\"4\" valign=\"top\">0.8</th>\n",
       "      <th>max_gain</th>\n",
       "      <td>2.773155</td>\n",
       "    </tr>\n",
       "    <tr>\n",
       "      <th>mild_random</th>\n",
       "      <td>3.995011</td>\n",
       "    </tr>\n",
       "    <tr>\n",
       "      <th>min_gain</th>\n",
       "      <td>329.726755</td>\n",
       "    </tr>\n",
       "    <tr>\n",
       "      <th>pure_random</th>\n",
       "      <td>0.263252</td>\n",
       "    </tr>\n",
       "  </tbody>\n",
       "</table>\n",
       "</div>"
      ],
      "text/plain": [
       "                             elapsed_total_time\n",
       "homophily relocation_policy                    \n",
       "0.2       max_gain                     0.377298\n",
       "          mild_random                  0.634200\n",
       "          min_gain                     1.005354\n",
       "          pure_random                  0.056675\n",
       "0.4       max_gain                     1.809642\n",
       "          mild_random                  1.942543\n",
       "          min_gain                     3.078816\n",
       "          pure_random                  0.082074\n",
       "0.6       max_gain                     2.790313\n",
       "          mild_random                  3.172629\n",
       "          min_gain                     5.111782\n",
       "          pure_random                  0.049957\n",
       "0.8       max_gain                     2.773155\n",
       "          mild_random                  3.995011\n",
       "          min_gain                   329.726755\n",
       "          pure_random                  0.263252"
      ]
     },
     "execution_count": 142,
     "metadata": {},
     "output_type": "execute_result"
    }
   ],
   "source": [
    "p2 = df2[(df2[\"side\"]==15) & (df2[\"neighborhood_type\"]==\"rel\")]\n",
    "r = p2.groupby([\"homophily\",\"relocation_policy\"]).max()[[\"elapsed_total_time\"]]\n",
    "r"
   ]
  },
  {
   "cell_type": "code",
   "execution_count": 133,
   "metadata": {},
   "outputs": [
    {
     "data": {
      "text/plain": [
       "0.3706541061401367"
      ]
     },
     "execution_count": 133,
     "metadata": {},
     "output_type": "execute_result"
    }
   ],
   "source": [
    "r.loc[0.2].loc[\"max_gain\"].values[0]"
   ]
  },
  {
   "cell_type": "code",
   "execution_count": 150,
   "metadata": {},
   "outputs": [
    {
     "name": "stdout",
     "output_type": "stream",
     "text": [
      "[1.2851641178131104, 276.3632595539093, 507.42712211608887, 630.3556976318359]\n"
     ]
    },
    {
     "data": {
      "image/png": "[encoded data removed]",
      "text/plain": [
       "<Figure size 864x576 with 1 Axes>"
      ]
     },
     "metadata": {
      "needs_background": "light"
     },
     "output_type": "display_data"
    }
   ],
   "source": [
    "import numpy as np\n",
    "import matplotlib.pyplot as plt\n",
    "\n",
    "p2 = df2[(df2[\"side\"]==15) & (df2[\"neighborhood_type\"]==\"abs\")]\n",
    "r = p2.groupby([\"homophily\",\"relocation_policy\"]).max()[[\"elapsed_total_time\"]]\n",
    "r\n",
    "\n",
    "\n",
    "# set width of bar\n",
    "barWidth = 0.1\n",
    "fig = plt.subplots(figsize =(12, 8))\n",
    "\n",
    "# set height of bar\n",
    "max_gain = []\n",
    "mR = []\n",
    "min_gain = []\n",
    "pr = []\n",
    "\n",
    "for hom in homophily_set:\n",
    "    max_gain.append(r.loc[hom].loc[\"max_gain\"].values[0])\n",
    "    min_gain.append(r.loc[hom].loc[\"min_gain\"].values[0])\n",
    "    mR.append(r.loc[hom].loc[\"mild_random\"].values[0])\n",
    "    pr.append(r.loc[hom].loc[\"pure_random\"].values[0])    \n",
    "\n",
    "print(max_gain)\n",
    "\n",
    "# Set position of bar on X axis\n",
    "br1 = np.arange(len(homophily_set))\n",
    "br2 = [x + barWidth for x in br1]\n",
    "br3 = [x + barWidth for x in br2]\n",
    "br4 = [x + barWidth for x in br3]\n",
    "\n",
    "# Make the plot\n",
    "plt.bar(br1, max_gain, color ='r', width = barWidth,\n",
    "\t\tedgecolor ='grey', label ='maxgain')\n",
    "plt.bar(br2, min_gain, color ='g', width = barWidth,\n",
    "\t\tedgecolor ='grey', label ='mingain')\n",
    "plt.bar(br3, mR, color ='b', width = barWidth,\n",
    "\t\tedgecolor ='grey', label ='mr')\n",
    "plt.bar(br4, pr, color ='y', width = barWidth,\n",
    "\t\tedgecolor ='grey', label ='pr')\n",
    "\n",
    "\n",
    "# Adding Xticks\n",
    "plt.xlabel('homophily', fontweight ='bold', fontsize = 15)\n",
    "plt.ylabel('time', fontweight ='bold', fontsize = 15)\n",
    "plt.xticks([r + barWidth for r in range(len(br1))],\n",
    "\t\thomophily_set)\n",
    "\n",
    "plt.legend()\n",
    "plt.show()\n"
   ]
  },
  {
   "cell_type": "code",
   "execution_count": 149,
   "metadata": {},
   "outputs": [
    {
     "name": "stdout",
     "output_type": "stream",
     "text": [
      "[27.56088423728943, 329.41416907310486, 630.3556976318359]\n"
     ]
    },
    {
     "data": {
      "image/png": "[encoded data removed]",
      "text/plain": [
       "<Figure size 864x576 with 1 Axes>"
      ]
     },
     "metadata": {
      "needs_background": "light"
     },
     "output_type": "display_data"
    }
   ],
   "source": [
    "import numpy as np\n",
    "import matplotlib.pyplot as plt\n",
    "\n",
    "p2 = df2[(df2[\"homophily\"]==0.8) & (df2[\"neighborhood_type\"]==\"abs\")]\n",
    "r = p2.groupby([\"side\",\"relocation_policy\"]).max()[[\"elapsed_total_time\"]]\n",
    "r\n",
    "\n",
    "\n",
    "# set width of bar\n",
    "barWidth = 0.1\n",
    "fig = plt.subplots(figsize =(12, 8))\n",
    "\n",
    "# set height of bar\n",
    "max_gain = []\n",
    "mR = []\n",
    "min_gain = []\n",
    "pr = []\n",
    "\n",
    "for side in side_set:\n",
    "    max_gain.append(r.loc[side].loc[\"max_gain\"].values[0])\n",
    "    min_gain.append(r.loc[side].loc[\"min_gain\"].values[0])\n",
    "    mR.append(r.loc[side].loc[\"mild_random\"].values[0])\n",
    "    pr.append(r.loc[side].loc[\"pure_random\"].values[0])    \n",
    "\n",
    "print(max_gain)\n",
    "\n",
    "# Set position of bar on X axis\n",
    "br1 = np.arange(len(side_set))\n",
    "br2 = [x + barWidth for x in br1]\n",
    "br3 = [x + barWidth for x in br2]\n",
    "br4 = [x + barWidth for x in br3]\n",
    "\n",
    "# Make the plot\n",
    "plt.bar(br1, max_gain, color ='r', width = barWidth,\n",
    "\t\tedgecolor ='grey', label ='maxgain')\n",
    "plt.bar(br2, min_gain, color ='g', width = barWidth,\n",
    "\t\tedgecolor ='grey', label ='mingain')\n",
    "plt.bar(br3, mR, color ='b', width = barWidth,\n",
    "\t\tedgecolor ='grey', label ='mr')\n",
    "plt.bar(br4, pr, color ='y', width = barWidth,\n",
    "\t\tedgecolor ='grey', label ='pr')\n",
    "\n",
    "\n",
    "# Adding Xticks\n",
    "plt.xlabel('side', fontweight ='bold', fontsize = 15)\n",
    "plt.ylabel('time', fontweight ='bold', fontsize = 15)\n",
    "plt.xticks([r + barWidth for r in range(len(br1))],\n",
    "\t\tside_set)\n",
    "\n",
    "plt.legend()\n",
    "plt.show()\n"
   ]
  },
  {
   "cell_type": "code",
   "execution_count": null,
   "metadata": {},
   "outputs": [],
   "source": []
  },
  {
   "cell_type": "code",
   "execution_count": null,
   "metadata": {},
   "outputs": [],
   "source": []
  },
  {
   "cell_type": "markdown",
   "metadata": {},
   "source": [
    "DURING"
   ]
  },
  {
   "cell_type": "markdown",
   "metadata": {},
   "source": [
    "SIDE CHANGE (HOMOPHILY FIX TO 0.8, NEIGH FIX TO ABS)"
   ]
  },
  {
   "cell_type": "code",
   "execution_count": 60,
   "metadata": {},
   "outputs": [
    {
     "data": {
      "text/plain": [
       "<matplotlib.legend.Legend at 0x28233299640>"
      ]
     },
     "execution_count": 60,
     "metadata": {},
     "output_type": "execute_result"
    },
    {
     "data": {
      "image/png": "[encoded data removed]",
      "text/plain": [
       "<Figure size 720x504 with 3 Axes>"
      ]
     },
     "metadata": {
      "needs_background": "light"
     },
     "output_type": "display_data"
    }
   ],
   "source": [
    "f, (ax1, ax2, ax3) = plt.subplots(1, 3, figsize=(10, 7), sharey = True)\n",
    "\n",
    "\n",
    "p1 = df2[(df2[\"side\"]==5) & (df2[\"homophily\"]==0.8) & (df2[\"neighborhood_type\"]==\"abs\")]\n",
    "\n",
    "pPR = p1[p1[\"relocation_policy\"]==\"pure_random\"]\n",
    "pMR = p1[p1[\"relocation_policy\"]==\"mild_random\"]\n",
    "pMAG = p1[p1[\"relocation_policy\"]==\"max_gain\"]\n",
    "pMIG = p1[p1[\"relocation_policy\"]==\"min_gain\"]\n",
    "\n",
    "\n",
    "ax1.plot(pPR[\"Step\"], pPR[\"tot_seg\"],  label='PR')\n",
    "ax1.plot(pMR[\"Step\"], pMR[\"tot_seg\"],  label='MR')\n",
    "ax1.plot(pMAG[\"Step\"], pMAG[\"tot_seg\"],  label='MAG')\n",
    "ax1.plot(pMIG[\"Step\"], pMIG[\"tot_seg\"],  label='MIG')\n",
    "\n",
    "###############################àà\n",
    "\n",
    "p1 = df2[(df2[\"side\"]==10) & (df2[\"homophily\"]==0.8) & (df2[\"neighborhood_type\"]==\"abs\")]\n",
    "\n",
    "pPR = p1[p1[\"relocation_policy\"]==\"pure_random\"]\n",
    "pMR = p1[p1[\"relocation_policy\"]==\"mild_random\"]\n",
    "pMAG = p1[p1[\"relocation_policy\"]==\"max_gain\"]\n",
    "pMIG = p1[p1[\"relocation_policy\"]==\"min_gain\"]\n",
    "\n",
    "ax2.plot(pPR[\"Step\"], pPR[\"tot_seg\"],  label='PR')\n",
    "ax2.plot(pMR[\"Step\"], pMR[\"tot_seg\"],  label='MR')\n",
    "ax2.plot(pMAG[\"Step\"], pMAG[\"tot_seg\"],  label='MAG')\n",
    "ax2.plot(pMIG[\"Step\"], pMIG[\"tot_seg\"],  label='MIG')\n",
    "\n",
    "\n",
    "################################################\n",
    "\n",
    "\n",
    "p1 = df2[(df2[\"side\"]==15) & (df2[\"homophily\"]==0.8) & (df2[\"neighborhood_type\"]==\"abs\")]\n",
    "\n",
    "pPR = p1[p1[\"relocation_policy\"]==\"pure_random\"]\n",
    "pMR = p1[p1[\"relocation_policy\"]==\"mild_random\"]\n",
    "pMAG = p1[p1[\"relocation_policy\"]==\"max_gain\"]\n",
    "pMIG = p1[p1[\"relocation_policy\"]==\"min_gain\"]\n",
    "\n",
    "ax3.plot(pPR[\"Step\"], pPR[\"tot_seg\"],  label='PR')\n",
    "ax3.plot(pMR[\"Step\"], pMR[\"tot_seg\"],  label='MR')\n",
    "ax3.plot(pMAG[\"Step\"], pMAG[\"tot_seg\"],  label='MAG')\n",
    "ax3.plot(pMIG[\"Step\"], pMIG[\"tot_seg\"],  label='MIG')\n",
    "\n",
    "\n",
    "ax1.set_title('SIDE = 5')\n",
    "ax1.set_xlabel('Steps')\n",
    "ax1.set_ylabel('Avg_Segr')\n",
    "\n",
    "ax2.set_title('SIDE = 10')\n",
    "ax2.set_xlabel('Steps')\n",
    "\n",
    "ax3.set_title('SIDE = 15')\n",
    "ax3.set_xlabel('Steps')\n",
    "\n",
    "f.suptitle('SIDE CHANGES, HOMOPHILY FIX TO 0.8, NEIGH FIX TO ABS')\n",
    "plt.legend()"
   ]
  },
  {
   "cell_type": "markdown",
   "metadata": {},
   "source": [
    "SIDE CHANGES (HOMOPHILY FIX TO 0.8, NEIGH FIX TO REL)"
   ]
  },
  {
   "cell_type": "code",
   "execution_count": 61,
   "metadata": {},
   "outputs": [
    {
     "data": {
      "text/plain": [
       "<matplotlib.legend.Legend at 0x2822b828580>"
      ]
     },
     "execution_count": 61,
     "metadata": {},
     "output_type": "execute_result"
    },
    {
     "data": {
      "image/png": "[encoded data removed]",
      "text/plain": [
       "<Figure size 720x504 with 3 Axes>"
      ]
     },
     "metadata": {
      "needs_background": "light"
     },
     "output_type": "display_data"
    }
   ],
   "source": [
    "f, (ax1, ax2, ax3) = plt.subplots(1, 3, figsize=(10, 7), sharey = True)\n",
    "\n",
    "\n",
    "p1 = df2[(df2[\"side\"]==5) & (df2[\"homophily\"]==0.8) & (df2[\"neighborhood_type\"]==\"rel\")]\n",
    "\n",
    "pPR = p1[p1[\"relocation_policy\"]==\"pure_random\"]\n",
    "pMR = p1[p1[\"relocation_policy\"]==\"mild_random\"]\n",
    "pMAG = p1[p1[\"relocation_policy\"]==\"max_gain\"]\n",
    "pMIG = p1[p1[\"relocation_policy\"]==\"min_gain\"]\n",
    "\n",
    "\n",
    "ax1.plot(pPR[\"Step\"], pPR[\"tot_seg\"],  label='PR')\n",
    "ax1.plot(pMR[\"Step\"], pMR[\"tot_seg\"],  label='MR')\n",
    "ax1.plot(pMAG[\"Step\"], pMAG[\"tot_seg\"],  label='MAG')\n",
    "ax1.plot(pMIG[\"Step\"], pMIG[\"tot_seg\"],  label='MIG')\n",
    "\n",
    "###############################àà\n",
    "\n",
    "p1 = df2[(df2[\"side\"]==10) & (df2[\"homophily\"]==0.8) & (df2[\"neighborhood_type\"]==\"rel\")]\n",
    "\n",
    "pPR = p1[p1[\"relocation_policy\"]==\"pure_random\"]\n",
    "pMR = p1[p1[\"relocation_policy\"]==\"mild_random\"]\n",
    "pMAG = p1[p1[\"relocation_policy\"]==\"max_gain\"]\n",
    "pMIG = p1[p1[\"relocation_policy\"]==\"min_gain\"]\n",
    "\n",
    "ax2.plot(pPR[\"Step\"], pPR[\"tot_seg\"],  label='PR')\n",
    "ax2.plot(pMR[\"Step\"], pMR[\"tot_seg\"],  label='MR')\n",
    "ax2.plot(pMAG[\"Step\"], pMAG[\"tot_seg\"],  label='MAG')\n",
    "ax2.plot(pMIG[\"Step\"], pMIG[\"tot_seg\"],  label='MIG')\n",
    "\n",
    "\n",
    "################################################\n",
    "\n",
    "\n",
    "p1 = df2[(df2[\"side\"]==15) & (df2[\"homophily\"]==0.8) & (df2[\"neighborhood_type\"]==\"rel\")]\n",
    "\n",
    "pPR = p1[p1[\"relocation_policy\"]==\"pure_random\"]\n",
    "pMR = p1[p1[\"relocation_policy\"]==\"mild_random\"]\n",
    "pMAG = p1[p1[\"relocation_policy\"]==\"max_gain\"]\n",
    "pMIG = p1[p1[\"relocation_policy\"]==\"min_gain\"]\n",
    "\n",
    "ax3.plot(pPR[\"Step\"], pPR[\"tot_seg\"],  label='PR')\n",
    "ax3.plot(pMR[\"Step\"], pMR[\"tot_seg\"],  label='MR')\n",
    "ax3.plot(pMAG[\"Step\"], pMAG[\"tot_seg\"],  label='MAG')\n",
    "ax3.plot(pMIG[\"Step\"], pMIG[\"tot_seg\"],  label='MIG')\n",
    "\n",
    "\n",
    "ax1.set_title('SIDE = 5')\n",
    "ax1.set_xlabel('Steps')\n",
    "ax1.set_ylabel('Avg_Segr')\n",
    "\n",
    "ax2.set_title('SIDE = 10')\n",
    "ax2.set_xlabel('Steps')\n",
    "\n",
    "ax3.set_title('SIDE = 15')\n",
    "ax3.set_xlabel('Steps')\n",
    "\n",
    "f.suptitle('SIDE CHANGES, HOMOPHILY FIX TO 0.8, NEIGH FIX TO REL')\n",
    "plt.legend()"
   ]
  },
  {
   "cell_type": "code",
   "execution_count": null,
   "metadata": {},
   "outputs": [],
   "source": []
  },
  {
   "cell_type": "markdown",
   "metadata": {},
   "source": [
    "HOMOPHILY CHANGE (FIX SIDE TO 15, NEIGH TO ABS)"
   ]
  },
  {
   "cell_type": "code",
   "execution_count": 64,
   "metadata": {},
   "outputs": [
    {
     "data": {
      "text/plain": [
       "<matplotlib.legend.Legend at 0x28276bde280>"
      ]
     },
     "execution_count": 64,
     "metadata": {},
     "output_type": "execute_result"
    },
    {
     "data": {
      "image/png": "[encoded data removed]",
      "text/plain": [
       "<Figure size 720x504 with 4 Axes>"
      ]
     },
     "metadata": {
      "needs_background": "light"
     },
     "output_type": "display_data"
    }
   ],
   "source": [
    "f, ax = plt.subplots(2, 2, figsize=(10, 7), sharey = True)\n",
    "\n",
    "\n",
    "p1 = df2[(df2[\"side\"]==15) & (df2[\"homophily\"]==0.2) & (df2[\"neighborhood_type\"]==\"abs\")]\n",
    "\n",
    "pPR = p1[p1[\"relocation_policy\"]==\"pure_random\"]\n",
    "pMR = p1[p1[\"relocation_policy\"]==\"mild_random\"]\n",
    "pMAG = p1[p1[\"relocation_policy\"]==\"max_gain\"]\n",
    "pMIG = p1[p1[\"relocation_policy\"]==\"min_gain\"]\n",
    "\n",
    "\n",
    "ax[0,0].plot(pPR[\"Step\"], pPR[\"tot_seg\"],  label='PR')\n",
    "ax[0,0].plot(pMR[\"Step\"], pMR[\"tot_seg\"],  label='MR')\n",
    "ax[0,0].plot(pMAG[\"Step\"], pMAG[\"tot_seg\"],  label='MAG')\n",
    "ax[0,0].plot(pMIG[\"Step\"], pMIG[\"tot_seg\"],  label='MIG')\n",
    "\n",
    "###############################àà\n",
    "\n",
    "p1 = df2[(df2[\"side\"]==15) & (df2[\"homophily\"]==0.4) & (df2[\"neighborhood_type\"]==\"abs\")]\n",
    "\n",
    "pPR = p1[p1[\"relocation_policy\"]==\"pure_random\"]\n",
    "pMR = p1[p1[\"relocation_policy\"]==\"mild_random\"]\n",
    "pMAG = p1[p1[\"relocation_policy\"]==\"max_gain\"]\n",
    "pMIG = p1[p1[\"relocation_policy\"]==\"min_gain\"]\n",
    "\n",
    "ax[0,1].plot(pPR[\"Step\"], pPR[\"tot_seg\"],  label='PR')\n",
    "ax[0,1].plot(pMR[\"Step\"], pMR[\"tot_seg\"],  label='MR')\n",
    "ax[0,1].plot(pMAG[\"Step\"], pMAG[\"tot_seg\"],  label='MAG')\n",
    "ax[0,1].plot(pMIG[\"Step\"], pMIG[\"tot_seg\"],  label='MIG')\n",
    "\n",
    "\n",
    "################################################\n",
    "\n",
    "\n",
    "p1 = df2[(df2[\"side\"]==15) & (df2[\"homophily\"]==0.6) & (df2[\"neighborhood_type\"]==\"abs\")]\n",
    "\n",
    "pPR = p1[p1[\"relocation_policy\"]==\"pure_random\"]\n",
    "pMR = p1[p1[\"relocation_policy\"]==\"mild_random\"]\n",
    "pMAG = p1[p1[\"relocation_policy\"]==\"max_gain\"]\n",
    "pMIG = p1[p1[\"relocation_policy\"]==\"min_gain\"]\n",
    "\n",
    "ax[1,0].plot(pPR[\"Step\"], pPR[\"tot_seg\"],  label='PR')\n",
    "ax[1,0].plot(pMR[\"Step\"], pMR[\"tot_seg\"],  label='MR')\n",
    "ax[1,0].plot(pMAG[\"Step\"], pMAG[\"tot_seg\"],  label='MAG')\n",
    "ax[1,0].plot(pMIG[\"Step\"], pMIG[\"tot_seg\"],  label='MIG')\n",
    "\n",
    "############################################\n",
    "\n",
    "\n",
    "p1 = df2[(df2[\"side\"]==15) & (df2[\"homophily\"]==0.8) & (df2[\"neighborhood_type\"]==\"abs\")]\n",
    "\n",
    "pPR = p1[p1[\"relocation_policy\"]==\"pure_random\"]\n",
    "pMR = p1[p1[\"relocation_policy\"]==\"mild_random\"]\n",
    "pMAG = p1[p1[\"relocation_policy\"]==\"max_gain\"]\n",
    "pMIG = p1[p1[\"relocation_policy\"]==\"min_gain\"]\n",
    "\n",
    "ax[1,1].plot(pPR[\"Step\"], pPR[\"tot_seg\"],  label='PR')\n",
    "ax[1,1].plot(pMR[\"Step\"], pMR[\"tot_seg\"],  label='MR')\n",
    "ax[1,1].plot(pMAG[\"Step\"], pMAG[\"tot_seg\"],  label='MAG')\n",
    "ax[1,1].plot(pMIG[\"Step\"], pMIG[\"tot_seg\"],  label='MIG')\n",
    "\n",
    "\n",
    "ax[0,0].set_title('HOM = 0.2')\n",
    "ax[0,0].set_ylabel('Avg_Segr')\n",
    "\n",
    "ax[0,1].set_title('HOM = 0.4')\n",
    "\n",
    "\n",
    "ax[1,0].set_title('HOM = 0.6')\n",
    "ax[1,0].set_xlabel('Steps')\n",
    "ax[1,0].set_ylabel('Avg_Segr')\n",
    "\n",
    "ax[1,1].set_title('HOM = 0.8')\n",
    "ax[1,1].set_xlabel('Steps')\n",
    "\n",
    "f.suptitle('HOMOPHILY CHANGES, FIX SIDE TO 15, NEIGH TO ABS')\n",
    "plt.legend()"
   ]
  },
  {
   "cell_type": "code",
   "execution_count": null,
   "metadata": {},
   "outputs": [],
   "source": [
    "HOMOPHILY CHANGE (FIX SIDE TO 15, NEIGH TO REL)"
   ]
  },
  {
   "cell_type": "code",
   "execution_count": 65,
   "metadata": {},
   "outputs": [
    {
     "data": {
      "text/plain": [
       "<matplotlib.legend.Legend at 0x2827c492970>"
      ]
     },
     "execution_count": 65,
     "metadata": {},
     "output_type": "execute_result"
    },
    {
     "data": {
      "image/png": "[encoded data removed]",
      "text/plain": [
       "<Figure size 720x504 with 4 Axes>"
      ]
     },
     "metadata": {
      "needs_background": "light"
     },
     "output_type": "display_data"
    }
   ],
   "source": [
    "f, ax = plt.subplots(2, 2, figsize=(10, 7), sharey = True)\n",
    "\n",
    "\n",
    "p1 = df2[(df2[\"side\"]==15) & (df2[\"homophily\"]==0.2) & (df2[\"neighborhood_type\"]==\"rel\")]\n",
    "\n",
    "pPR = p1[p1[\"relocation_policy\"]==\"pure_random\"]\n",
    "pMR = p1[p1[\"relocation_policy\"]==\"mild_random\"]\n",
    "pMAG = p1[p1[\"relocation_policy\"]==\"max_gain\"]\n",
    "pMIG = p1[p1[\"relocation_policy\"]==\"min_gain\"]\n",
    "\n",
    "\n",
    "ax[0,0].plot(pPR[\"Step\"], pPR[\"tot_seg\"],  label='PR')\n",
    "ax[0,0].plot(pMR[\"Step\"], pMR[\"tot_seg\"],  label='MR')\n",
    "ax[0,0].plot(pMAG[\"Step\"], pMAG[\"tot_seg\"],  label='MAG')\n",
    "ax[0,0].plot(pMIG[\"Step\"], pMIG[\"tot_seg\"],  label='MIG')\n",
    "\n",
    "###############################àà\n",
    "\n",
    "p1 = df2[(df2[\"side\"]==15) & (df2[\"homophily\"]==0.4) & (df2[\"neighborhood_type\"]==\"rel\")]\n",
    "\n",
    "pPR = p1[p1[\"relocation_policy\"]==\"pure_random\"]\n",
    "pMR = p1[p1[\"relocation_policy\"]==\"mild_random\"]\n",
    "pMAG = p1[p1[\"relocation_policy\"]==\"max_gain\"]\n",
    "pMIG = p1[p1[\"relocation_policy\"]==\"min_gain\"]\n",
    "\n",
    "ax[0,1].plot(pPR[\"Step\"], pPR[\"tot_seg\"],  label='PR')\n",
    "ax[0,1].plot(pMR[\"Step\"], pMR[\"tot_seg\"],  label='MR')\n",
    "ax[0,1].plot(pMAG[\"Step\"], pMAG[\"tot_seg\"],  label='MAG')\n",
    "ax[0,1].plot(pMIG[\"Step\"], pMIG[\"tot_seg\"],  label='MIG')\n",
    "\n",
    "\n",
    "################################################\n",
    "\n",
    "\n",
    "p1 = df2[(df2[\"side\"]==15) & (df2[\"homophily\"]==0.6) & (df2[\"neighborhood_type\"]==\"rel\")]\n",
    "\n",
    "pPR = p1[p1[\"relocation_policy\"]==\"pure_random\"]\n",
    "pMR = p1[p1[\"relocation_policy\"]==\"mild_random\"]\n",
    "pMAG = p1[p1[\"relocation_policy\"]==\"max_gain\"]\n",
    "pMIG = p1[p1[\"relocation_policy\"]==\"min_gain\"]\n",
    "\n",
    "ax[1,0].plot(pPR[\"Step\"], pPR[\"tot_seg\"],  label='PR')\n",
    "ax[1,0].plot(pMR[\"Step\"], pMR[\"tot_seg\"],  label='MR')\n",
    "ax[1,0].plot(pMAG[\"Step\"], pMAG[\"tot_seg\"],  label='MAG')\n",
    "ax[1,0].plot(pMIG[\"Step\"], pMIG[\"tot_seg\"],  label='MIG')\n",
    "\n",
    "############################################\n",
    "\n",
    "\n",
    "p1 = df2[(df2[\"side\"]==15) & (df2[\"homophily\"]==0.8) & (df2[\"neighborhood_type\"]==\"rel\")]\n",
    "\n",
    "pPR = p1[p1[\"relocation_policy\"]==\"pure_random\"]\n",
    "pMR = p1[p1[\"relocation_policy\"]==\"mild_random\"]\n",
    "pMAG = p1[p1[\"relocation_policy\"]==\"max_gain\"]\n",
    "pMIG = p1[p1[\"relocation_policy\"]==\"min_gain\"]\n",
    "\n",
    "ax[1,1].plot(pPR[\"Step\"], pPR[\"tot_seg\"],  label='PR')\n",
    "ax[1,1].plot(pMR[\"Step\"], pMR[\"tot_seg\"],  label='MR')\n",
    "ax[1,1].plot(pMAG[\"Step\"], pMAG[\"tot_seg\"],  label='MAG')\n",
    "ax[1,1].plot(pMIG[\"Step\"], pMIG[\"tot_seg\"],  label='MIG')\n",
    "\n",
    "\n",
    "ax[0,0].set_title('HOM = 0.2')\n",
    "ax[0,0].set_ylabel('Avg_Segr')\n",
    "\n",
    "ax[0,1].set_title('HOM = 0.4')\n",
    "\n",
    "\n",
    "ax[1,0].set_title('HOM = 0.6')\n",
    "ax[1,0].set_xlabel('Steps')\n",
    "ax[1,0].set_ylabel('Avg_Segr')\n",
    "\n",
    "ax[1,1].set_title('HOM = 0.8')\n",
    "ax[1,1].set_xlabel('Steps')\n",
    "\n",
    "f.suptitle('HOMOPHILY CHANGES, FIX SIDE TO 15, NEIGH TO REL')\n",
    "plt.legend()"
   ]
  },
  {
   "cell_type": "code",
   "execution_count": null,
   "metadata": {},
   "outputs": [],
   "source": []
  },
  {
   "cell_type": "code",
   "execution_count": null,
   "metadata": {},
   "outputs": [],
   "source": [
    "f, ax = plt.subplots(2, 2, figsize=(10, 7), sharey = True)\n",
    "\n",
    "\n",
    "p1 = df2[(df2[\"side\"]==15) & (df2[\"homophily\"]==0.2) & (df2[\"neighborhood_type\"]==\"rel\")]\n",
    "\n",
    "pPR = p1[p1[\"relocation_policy\"]==\"pure_random\"]\n",
    "pMR = p1[p1[\"relocation_policy\"]==\"mild_random\"]\n",
    "pMAG = p1[p1[\"relocation_policy\"]==\"max_gain\"]\n",
    "pMIG = p1[p1[\"relocation_policy\"]==\"min_gain\"]\n",
    "\n",
    "\n",
    "ax[0,0].plot(pPR[\"Step\"], pPR[\"tot_seg\"],  label='PR')\n",
    "ax[0,0].plot(pMR[\"Step\"], pMR[\"tot_seg\"],  label='MR')\n",
    "ax[0,0].plot(pMAG[\"Step\"], pMAG[\"tot_seg\"],  label='MAG')\n",
    "ax[0,0].plot(pMIG[\"Step\"], pMIG[\"tot_seg\"],  label='MIG')\n",
    "\n",
    "###############################àà\n",
    "\n",
    "p1 = df2[(df2[\"side\"]==15) & (df2[\"homophily\"]==0.4) & (df2[\"neighborhood_type\"]==\"rel\")]\n",
    "\n",
    "pPR = p1[p1[\"relocation_policy\"]==\"pure_random\"]\n",
    "pMR = p1[p1[\"relocation_policy\"]==\"mild_random\"]\n",
    "pMAG = p1[p1[\"relocation_policy\"]==\"max_gain\"]\n",
    "pMIG = p1[p1[\"relocation_policy\"]==\"min_gain\"]\n",
    "\n",
    "ax[0,1].plot(pPR[\"Step\"], pPR[\"tot_seg\"],  label='PR')\n",
    "ax[0,1].plot(pMR[\"Step\"], pMR[\"tot_seg\"],  label='MR')\n",
    "ax[0,1].plot(pMAG[\"Step\"], pMAG[\"tot_seg\"],  label='MAG')\n",
    "ax[0,1].plot(pMIG[\"Step\"], pMIG[\"tot_seg\"],  label='MIG')\n",
    "\n",
    "\n",
    "################################################\n",
    "\n",
    "\n",
    "p1 = df2[(df2[\"side\"]==15) & (df2[\"homophily\"]==0.6) & (df2[\"neighborhood_type\"]==\"rel\")]\n",
    "\n",
    "pPR = p1[p1[\"relocation_policy\"]==\"pure_random\"]\n",
    "pMR = p1[p1[\"relocation_policy\"]==\"mild_random\"]\n",
    "pMAG = p1[p1[\"relocation_policy\"]==\"max_gain\"]\n",
    "pMIG = p1[p1[\"relocation_policy\"]==\"min_gain\"]\n",
    "\n",
    "ax[1,0].plot(pPR[\"Step\"], pPR[\"tot_seg\"],  label='PR')\n",
    "ax[1,0].plot(pMR[\"Step\"], pMR[\"tot_seg\"],  label='MR')\n",
    "ax[1,0].plot(pMAG[\"Step\"], pMAG[\"tot_seg\"],  label='MAG')\n",
    "ax[1,0].plot(pMIG[\"Step\"], pMIG[\"tot_seg\"],  label='MIG')\n",
    "\n",
    "############################################\n",
    "\n",
    "\n",
    "p1 = df2[(df2[\"side\"]==15) & (df2[\"homophily\"]==0.8) & (df2[\"neighborhood_type\"]==\"rel\")]\n",
    "\n",
    "pPR = p1[p1[\"relocation_policy\"]==\"pure_random\"]\n",
    "pMR = p1[p1[\"relocation_policy\"]==\"mild_random\"]\n",
    "pMAG = p1[p1[\"relocation_policy\"]==\"max_gain\"]\n",
    "pMIG = p1[p1[\"relocation_policy\"]==\"min_gain\"]\n",
    "\n",
    "ax[1,1].plot(pPR[\"Step\"], pPR[\"tot_seg\"],  label='PR')\n",
    "ax[1,1].plot(pMR[\"Step\"], pMR[\"tot_seg\"],  label='MR')\n",
    "ax[1,1].plot(pMAG[\"Step\"], pMAG[\"tot_seg\"],  label='MAG')\n",
    "ax[1,1].plot(pMIG[\"Step\"], pMIG[\"tot_seg\"],  label='MIG')\n",
    "\n",
    "\n",
    "ax[0,0].set_title('HOM = 0.2')\n",
    "ax[0,0].set_ylabel('Avg_Segr')\n",
    "\n",
    "ax[0,1].set_title('HOM = 0.4')\n",
    "\n",
    "\n",
    "ax[1,0].set_title('HOM = 0.6')\n",
    "ax[1,0].set_xlabel('Steps')\n",
    "ax[1,0].set_ylabel('Avg_Segr')\n",
    "\n",
    "ax[1,1].set_title('HOM = 0.8')\n",
    "ax[1,1].set_xlabel('Steps')\n",
    "\n",
    "f.suptitle('HOMOPHILY CHANGES, FIX SIDE TO 15, NEIGH TO REL')\n",
    "plt.legend()"
   ]
  },
  {
   "cell_type": "markdown",
   "metadata": {},
   "source": [
    "FINAL"
   ]
  },
  {
   "cell_type": "markdown",
   "metadata": {},
   "source": [
    "HOMOPHILY CHANGES, FIX SIDE "
   ]
  },
  {
   "cell_type": "code",
   "execution_count": null,
   "metadata": {},
   "outputs": [],
   "source": [
    "f, ax = plt.subplots(2, 2, figsize=(10, 7), sharey = True)\n",
    "\n",
    "\n",
    "p2 = df2[(df2[\"side\"]==15) & (df2[\"neighborhood_type\"]==\"rel\")]\n",
    "p2.groupby([\"homophily\",\"relocation_policy\"]).max()[[\"elapsed_step_time\"]]\n",
    "\n",
    "\n",
    "p1 = df2[(df2[\"side\"]==15) & (df2[\"homophily\"]==0.2) & (df2[\"neighborhood_type\"]==\"rel\")]\n",
    "\n",
    "pPR = p1[p1[\"relocation_policy\"]==\"pure_random\"]\n",
    "pMR = p1[p1[\"relocation_policy\"]==\"mild_random\"]\n",
    "pMAG = p1[p1[\"relocation_policy\"]==\"max_gain\"]\n",
    "pMIG = p1[p1[\"relocation_policy\"]==\"min_gain\"]\n",
    "\n",
    "\n",
    "ax[0,0].plot(pPR[\"Step\"], pPR[\"tot_seg\"],  label='PR')\n",
    "ax[0,0].plot(pMR[\"Step\"], pMR[\"tot_seg\"],  label='MR')\n",
    "ax[0,0].plot(pMAG[\"Step\"], pMAG[\"tot_seg\"],  label='MAG')\n",
    "ax[0,0].plot(pMIG[\"Step\"], pMIG[\"tot_seg\"],  label='MIG')\n",
    "\n",
    "###############################àà\n",
    "\n",
    "p1 = df2[(df2[\"side\"]==15) & (df2[\"homophily\"]==0.4) & (df2[\"neighborhood_type\"]==\"rel\")]\n",
    "\n",
    "pPR = p1[p1[\"relocation_policy\"]==\"pure_random\"]\n",
    "pMR = p1[p1[\"relocation_policy\"]==\"mild_random\"]\n",
    "pMAG = p1[p1[\"relocation_policy\"]==\"max_gain\"]\n",
    "pMIG = p1[p1[\"relocation_policy\"]==\"min_gain\"]\n",
    "\n",
    "ax[0,1].plot(pPR[\"Step\"], pPR[\"tot_seg\"],  label='PR')\n",
    "ax[0,1].plot(pMR[\"Step\"], pMR[\"tot_seg\"],  label='MR')\n",
    "ax[0,1].plot(pMAG[\"Step\"], pMAG[\"tot_seg\"],  label='MAG')\n",
    "ax[0,1].plot(pMIG[\"Step\"], pMIG[\"tot_seg\"],  label='MIG')\n",
    "\n",
    "\n",
    "################################################\n",
    "\n",
    "\n",
    "p1 = df2[(df2[\"side\"]==15) & (df2[\"homophily\"]==0.6) & (df2[\"neighborhood_type\"]==\"rel\")]\n",
    "\n",
    "pPR = p1[p1[\"relocation_policy\"]==\"pure_random\"]\n",
    "pMR = p1[p1[\"relocation_policy\"]==\"mild_random\"]\n",
    "pMAG = p1[p1[\"relocation_policy\"]==\"max_gain\"]\n",
    "pMIG = p1[p1[\"relocation_policy\"]==\"min_gain\"]\n",
    "\n",
    "ax[1,0].plot(pPR[\"Step\"], pPR[\"tot_seg\"],  label='PR')\n",
    "ax[1,0].plot(pMR[\"Step\"], pMR[\"tot_seg\"],  label='MR')\n",
    "ax[1,0].plot(pMAG[\"Step\"], pMAG[\"tot_seg\"],  label='MAG')\n",
    "ax[1,0].plot(pMIG[\"Step\"], pMIG[\"tot_seg\"],  label='MIG')\n",
    "\n",
    "############################################\n",
    "\n",
    "\n",
    "p1 = df2[(df2[\"side\"]==15) & (df2[\"homophily\"]==0.8) & (df2[\"neighborhood_type\"]==\"rel\")]\n",
    "\n",
    "pPR = p1[p1[\"relocation_policy\"]==\"pure_random\"]\n",
    "pMR = p1[p1[\"relocation_policy\"]==\"mild_random\"]\n",
    "pMAG = p1[p1[\"relocation_policy\"]==\"max_gain\"]\n",
    "pMIG = p1[p1[\"relocation_policy\"]==\"min_gain\"]\n",
    "\n",
    "ax[1,1].plot(pPR[\"Step\"], pPR[\"tot_seg\"],  label='PR')\n",
    "ax[1,1].plot(pMR[\"Step\"], pMR[\"tot_seg\"],  label='MR')\n",
    "ax[1,1].plot(pMAG[\"Step\"], pMAG[\"tot_seg\"],  label='MAG')\n",
    "ax[1,1].plot(pMIG[\"Step\"], pMIG[\"tot_seg\"],  label='MIG')\n",
    "\n",
    "\n",
    "ax[0,0].set_title('HOM = 0.2')\n",
    "ax[0,0].set_ylabel('Avg_Segr')\n",
    "\n",
    "ax[0,1].set_title('HOM = 0.4')\n",
    "\n",
    "\n",
    "ax[1,0].set_title('HOM = 0.6')\n",
    "ax[1,0].set_xlabel('Steps')\n",
    "ax[1,0].set_ylabel('Avg_Segr')\n",
    "\n",
    "ax[1,1].set_title('HOM = 0.8')\n",
    "ax[1,1].set_xlabel('Steps')\n",
    "\n",
    "f.suptitle('HOMOPHILY CHANGES, FIX SIDE TO 15, NEIGH TO REL')\n",
    "plt.legend()"
   ]
  },
  {
   "cell_type": "code",
   "execution_count": null,
   "metadata": {},
   "outputs": [],
   "source": []
  },
  {
   "cell_type": "code",
   "execution_count": null,
   "metadata": {},
   "outputs": [],
   "source": []
  },
  {
   "cell_type": "code",
   "execution_count": null,
   "metadata": {},
   "outputs": [],
   "source": []
  },
  {
   "cell_type": "markdown",
   "metadata": {},
   "source": [
    "HOMOPHILY"
   ]
  },
  {
   "cell_type": "code",
   "execution_count": 26,
   "metadata": {},
   "outputs": [
    {
     "data": {
      "image/png": "[encoded data removed]",
      "text/plain": [
       "<Figure size 432x288 with 1 Axes>"
      ]
     },
     "metadata": {
      "needs_background": "light"
     },
     "output_type": "display_data"
    }
   ],
   "source": [
    "p1 = df2[(df2[\"side\"]==15) & (df2[\"homophily\"]==0.4) & (df2[\"neighborhood_type\"]==\"rel\")]\n",
    "\n",
    "pPR = p1[p1[\"relocation_policy\"]==\"pure_random\"]\n",
    "pMR = p1[p1[\"relocation_policy\"]==\"mild_random\"]\n",
    "pMAG = p1[p1[\"relocation_policy\"]==\"max_gain\"]\n",
    "pMIG = p1[p1[\"relocation_policy\"]==\"min_gain\"]\n",
    "\n",
    "\n",
    "plt.plot(pPR[\"Step\"], pPR[\"tot_seg\"],  label='PR')\n",
    "plt.plot(pMR[\"Step\"], pMR[\"tot_seg\"],  label='MR')\n",
    "plt.plot(pMAG[\"Step\"], pMAG[\"tot_seg\"],  label='MAG')\n",
    "plt.plot(pMIG[\"Step\"], pMIG[\"tot_seg\"],  label='MIG')\n",
    "\n",
    "plt.legend(loc='best')\n",
    "plt.title('PLOT')\n",
    "plt.ylabel('AVG SEGREG')\n",
    "plt.xlabel('step')\n",
    "plt.show()"
   ]
  },
  {
   "cell_type": "code",
   "execution_count": 29,
   "metadata": {},
   "outputs": [
    {
     "data": {
      "image/png": "[encoded data removed]",
      "text/plain": [
       "<Figure size 432x288 with 1 Axes>"
      ]
     },
     "metadata": {
      "needs_background": "light"
     },
     "output_type": "display_data"
    }
   ],
   "source": [
    "p1 = df2[(df2[\"side\"]==15) & (df2[\"homophily\"]==0.6) & (df2[\"neighborhood_type\"]==\"rel\")]\n",
    "\n",
    "pPR = p1[p1[\"relocation_policy\"]==\"pure_random\"]\n",
    "pMR = p1[p1[\"relocation_policy\"]==\"mild_random\"]\n",
    "pMAG = p1[p1[\"relocation_policy\"]==\"max_gain\"]\n",
    "pMIG = p1[p1[\"relocation_policy\"]==\"min_gain\"]\n",
    "\n",
    "\n",
    "plt.plot(pPR[\"Step\"], pPR[\"tot_seg\"],  label='PR')\n",
    "plt.plot(pMR[\"Step\"], pMR[\"tot_seg\"],  label='MR')\n",
    "plt.plot(pMAG[\"Step\"], pMAG[\"tot_seg\"],  label='MAG')\n",
    "plt.plot(pMIG[\"Step\"], pMIG[\"tot_seg\"],  label='MIG')\n",
    "\n",
    "plt.legend(loc='best')\n",
    "plt.title('PLOT')\n",
    "plt.ylabel('AVG SEGREG')\n",
    "plt.xlabel('step')\n",
    "plt.show()"
   ]
  },
  {
   "cell_type": "code",
   "execution_count": 30,
   "metadata": {},
   "outputs": [
    {
     "data": {
      "image/png": "[encoded data removed]",
      "text/plain": [
       "<Figure size 432x288 with 1 Axes>"
      ]
     },
     "metadata": {
      "needs_background": "light"
     },
     "output_type": "display_data"
    }
   ],
   "source": [
    "p1 = df2[(df2[\"side\"]==15) & (df2[\"homophily\"]==0.8) & (df2[\"neighborhood_type\"]==\"rel\")]\n",
    "\n",
    "pPR = p1[p1[\"relocation_policy\"]==\"pure_random\"]\n",
    "pMR = p1[p1[\"relocation_policy\"]==\"mild_random\"]\n",
    "pMAG = p1[p1[\"relocation_policy\"]==\"max_gain\"]\n",
    "pMIG = p1[p1[\"relocation_policy\"]==\"min_gain\"]\n",
    "\n",
    "\n",
    "plt.plot(pPR[\"Step\"], pPR[\"tot_seg\"],  label='PR')\n",
    "plt.plot(pMR[\"Step\"], pMR[\"tot_seg\"],  label='MR')\n",
    "plt.plot(pMAG[\"Step\"], pMAG[\"tot_seg\"],  label='MAG')\n",
    "plt.plot(pMIG[\"Step\"], pMIG[\"tot_seg\"],  label='MIG')\n",
    "\n",
    "plt.legend(loc='best')\n",
    "plt.title('PLOT')\n",
    "plt.ylabel('AVG SEGREG')\n",
    "plt.xlabel('step')\n",
    "plt.show()"
   ]
  },
  {
   "cell_type": "markdown",
   "metadata": {},
   "source": [
    "NEIGH TYPE"
   ]
  },
  {
   "cell_type": "code",
   "execution_count": 46,
   "metadata": {},
   "outputs": [
    {
     "data": {
      "text/plain": [
       "<matplotlib.legend.Legend at 0x2820047bbb0>"
      ]
     },
     "execution_count": 46,
     "metadata": {},
     "output_type": "execute_result"
    },
    {
     "data": {
      "image/png": "[encoded data removed]",
      "text/plain": [
       "<Figure size 864x504 with 2 Axes>"
      ]
     },
     "metadata": {
      "needs_background": "light"
     },
     "output_type": "display_data"
    }
   ],
   "source": [
    "f, (ax1, ax2) = plt.subplots(1, 2, figsize=(12, 7))\n",
    "\n",
    "\n",
    "p1 = df2[(df2[\"side\"]==15) & (df2[\"homophily\"]==0.8) & (df2[\"neighborhood_type\"]==\"rel\")]\n",
    "\n",
    "pPR = p1[p1[\"relocation_policy\"]==\"pure_random\"]\n",
    "pMR = p1[p1[\"relocation_policy\"]==\"mild_random\"]\n",
    "pMAG = p1[p1[\"relocation_policy\"]==\"max_gain\"]\n",
    "pMIG = p1[p1[\"relocation_policy\"]==\"min_gain\"]\n",
    "\n",
    "\n",
    "ax1.plot(pPR[\"Step\"], pPR[\"tot_seg\"],  label='PR')\n",
    "ax1.plot(pMR[\"Step\"], pMR[\"tot_seg\"],  label='MR')\n",
    "ax1.plot(pMAG[\"Step\"], pMAG[\"tot_seg\"],  label='MAG')\n",
    "ax1.plot(pMIG[\"Step\"], pMIG[\"tot_seg\"],  label='MIG')\n",
    "\n",
    "\n",
    "p1 = df2[(df2[\"side\"]==15) & (df2[\"homophily\"]==0.8) & (df2[\"neighborhood_type\"]==\"abs\")]\n",
    "\n",
    "pPR = p1[p1[\"relocation_policy\"]==\"pure_random\"]\n",
    "pMR = p1[p1[\"relocation_policy\"]==\"mild_random\"]\n",
    "pMAG = p1[p1[\"relocation_policy\"]==\"max_gain\"]\n",
    "pMIG = p1[p1[\"relocation_policy\"]==\"min_gain\"]\n",
    "\n",
    "ax2.plot(pPR[\"Step\"], pPR[\"tot_seg\"],  label='PR')\n",
    "ax2.plot(pMR[\"Step\"], pMR[\"tot_seg\"],  label='MR')\n",
    "ax2.plot(pMAG[\"Step\"], pMAG[\"tot_seg\"],  label='MAG')\n",
    "ax2.plot(pMIG[\"Step\"], pMIG[\"tot_seg\"],  label='MIG')\n",
    "\n",
    "ax1.set_title('Neigh = rel')\n",
    "ax1.set_xlabel('Steps')\n",
    "ax1.set_ylabel('Avg_Segr')\n",
    "\n",
    "ax2.set_title('Neigh = abs')\n",
    "ax2.set_xlabel('Steps')\n",
    "\n",
    "plt.legend()"
   ]
  },
  {
   "cell_type": "code",
   "execution_count": 31,
   "metadata": {},
   "outputs": [
    {
     "data": {
      "image/png": "[encoded data removed]",
      "text/plain": [
       "<Figure size 432x288 with 1 Axes>"
      ]
     },
     "metadata": {
      "needs_background": "light"
     },
     "output_type": "display_data"
    }
   ],
   "source": [
    "p1 = df2[(df2[\"side\"]==15) & (df2[\"homophily\"]==0.8) & (df2[\"neighborhood_type\"]==\"rel\")]\n",
    "\n",
    "pPR = p1[p1[\"relocation_policy\"]==\"pure_random\"]\n",
    "pMR = p1[p1[\"relocation_policy\"]==\"mild_random\"]\n",
    "pMAG = p1[p1[\"relocation_policy\"]==\"max_gain\"]\n",
    "pMIG = p1[p1[\"relocation_policy\"]==\"min_gain\"]\n",
    "\n",
    "\n",
    "plt.plot(pPR[\"Step\"], pPR[\"tot_seg\"],  label='PR')\n",
    "plt.plot(pMR[\"Step\"], pMR[\"tot_seg\"],  label='MR')\n",
    "plt.plot(pMAG[\"Step\"], pMAG[\"tot_seg\"],  label='MAG')\n",
    "plt.plot(pMIG[\"Step\"], pMIG[\"tot_seg\"],  label='MIG')\n",
    "\n",
    "plt.legend(loc='best')\n",
    "plt.title('PLOT')\n",
    "plt.ylabel('AVG SEGREG')\n",
    "plt.xlabel('step')\n",
    "plt.show()"
   ]
  },
  {
   "cell_type": "code",
   "execution_count": 32,
   "metadata": {},
   "outputs": [
    {
     "data": {
      "image/png": "[encoded data removed]",
      "text/plain": [
       "<Figure size 432x288 with 1 Axes>"
      ]
     },
     "metadata": {
      "needs_background": "light"
     },
     "output_type": "display_data"
    }
   ],
   "source": [
    "p1 = df2[(df2[\"side\"]==15) & (df2[\"homophily\"]==0.8) & (df2[\"neighborhood_type\"]==\"abs\")]\n",
    "\n",
    "pPR = p1[p1[\"relocation_policy\"]==\"pure_random\"]\n",
    "pMR = p1[p1[\"relocation_policy\"]==\"mild_random\"]\n",
    "pMAG = p1[p1[\"relocation_policy\"]==\"max_gain\"]\n",
    "pMIG = p1[p1[\"relocation_policy\"]==\"min_gain\"]\n",
    "\n",
    "\n",
    "plt.plot(pPR[\"Step\"], pPR[\"tot_seg\"],  label='PR')\n",
    "plt.plot(pMR[\"Step\"], pMR[\"tot_seg\"],  label='MR')\n",
    "plt.plot(pMAG[\"Step\"], pMAG[\"tot_seg\"],  label='MAG')\n",
    "plt.plot(pMIG[\"Step\"], pMIG[\"tot_seg\"],  label='MIG')\n",
    "\n",
    "plt.legend(loc='best')\n",
    "plt.title('PLOT')\n",
    "plt.ylabel('AVG SEGREG')\n",
    "plt.xlabel('step')\n",
    "plt.show()"
   ]
  },
  {
   "cell_type": "code",
   "execution_count": null,
   "metadata": {},
   "outputs": [],
   "source": []
  },
  {
   "cell_type": "code",
   "execution_count": null,
   "metadata": {},
   "outputs": [],
   "source": [
    "res = df2.groupby([\"side\"]).sum()[[\"elapsed_step_time\"]]\n",
    "\n",
    "\n",
    "plt.plot([0,1,2,3,4], [10,20,30,40,60],  label='side')\n",
    "plt.plot([0,1,2], [100,200,500], label='step')\n",
    "plt.legend(loc='best')\n",
    "plt.title('PLOT')\n",
    "plt.ylabel('side')\n",
    "plt.xlabel('step')\n",
    "plt.show()"
   ]
  },
  {
   "cell_type": "code",
   "execution_count": null,
   "metadata": {},
   "outputs": [],
   "source": []
  },
  {
   "cell_type": "code",
   "execution_count": 10,
   "metadata": {},
   "outputs": [
    {
     "name": "stderr",
     "output_type": "stream",
     "text": [
      "<ipython-input-10-568b00056d3c>:1: FutureWarning: The default value of numeric_only in DataFrameGroupBy.sum is deprecated. In a future version, numeric_only will default to False. Either specify numeric_only or select only columns which should be valid for the function.\n",
      "  res = df3.groupby([\"side\"]).sum()[[\"elapsed_step_time\"]]\n"
     ]
    },
    {
     "data": {
      "text/html": [
       "<div>\n",
       "<style scoped>\n",
       "    .dataframe tbody tr th:only-of-type {\n",
       "        vertical-align: middle;\n",
       "    }\n",
       "\n",
       "    .dataframe tbody tr th {\n",
       "        vertical-align: top;\n",
       "    }\n",
       "\n",
       "    .dataframe thead th {\n",
       "        text-align: right;\n",
       "    }\n",
       "</style>\n",
       "<table border=\"1\" class=\"dataframe\">\n",
       "  <thead>\n",
       "    <tr style=\"text-align: right;\">\n",
       "      <th></th>\n",
       "      <th>elapsed_step_time</th>\n",
       "    </tr>\n",
       "    <tr>\n",
       "      <th>side</th>\n",
       "      <th></th>\n",
       "    </tr>\n",
       "  </thead>\n",
       "  <tbody>\n",
       "    <tr>\n",
       "      <th>8</th>\n",
       "      <td>31757.047672</td>\n",
       "    </tr>\n",
       "    <tr>\n",
       "      <th>15</th>\n",
       "      <td>504766.023674</td>\n",
       "    </tr>\n",
       "  </tbody>\n",
       "</table>\n",
       "</div>"
      ],
      "text/plain": [
       "      elapsed_step_time\n",
       "side                   \n",
       "8          31757.047672\n",
       "15        504766.023674"
      ]
     },
     "execution_count": 10,
     "metadata": {},
     "output_type": "execute_result"
    }
   ],
   "source": [
    "#plt.plot(df[ (df[\"RunId\"]==1) & (df[\"RunId\"]==1) ]['segregation'], label='Training Loss')\n",
    "res = df3.groupby([\"side\"]).sum()[[\"elapsed_step_time\"]]\n",
    "res"
   ]
  },
  {
   "cell_type": "code",
   "execution_count": 17,
   "metadata": {},
   "outputs": [
    {
     "data": {
      "image/png": "[encoded data removed]",
      "text/plain": [
       "<Figure size 432x288 with 1 Axes>"
      ]
     },
     "metadata": {
      "needs_background": "light"
     },
     "output_type": "display_data"
    }
   ],
   "source": [
    "plt.plot([0,1,2,3,4], [10,20,30,40,60],  label='side')\n",
    "plt.plot([0,1,2], [100,200,500], label='step')\n",
    "plt.legend(loc='best')\n",
    "plt.title('PLOT')\n",
    "plt.ylabel('side')\n",
    "plt.xlabel('step')\n",
    "plt.show()"
   ]
  },
  {
   "cell_type": "code",
   "execution_count": null,
   "metadata": {},
   "outputs": [],
   "source": []
  },
  {
   "cell_type": "code",
   "execution_count": null,
   "metadata": {},
   "outputs": [],
   "source": []
  },
  {
   "cell_type": "code",
   "execution_count": null,
   "metadata": {},
   "outputs": [],
   "source": []
  },
  {
   "cell_type": "code",
   "execution_count": null,
   "metadata": {},
   "outputs": [],
   "source": []
  },
  {
   "cell_type": "code",
   "execution_count": null,
   "metadata": {},
   "outputs": [],
   "source": []
  },
  {
   "cell_type": "code",
   "execution_count": null,
   "metadata": {},
   "outputs": [],
   "source": [
    "plt.figure(figsize=(9, 6))\n",
    "plt.plot(df[ (df[\"RunId\"]==1) & (df[\"RunId\"]==1) ]['segregation'], label='Training Loss')\n",
    "plt.plot(history.history['val_loss'], label='Validation Loss',  linestyle='dashed')"
   ]
  },
  {
   "cell_type": "code",
   "execution_count": null,
   "metadata": {},
   "outputs": [],
   "source": []
  },
  {
   "cell_type": "code",
   "execution_count": null,
   "metadata": {},
   "outputs": [],
   "source": []
  },
  {
   "cell_type": "code",
   "execution_count": null,
   "metadata": {},
   "outputs": [],
   "source": []
  },
  {
   "cell_type": "markdown",
   "metadata": {},
   "source": [
    "\n",
    "The model has a DataCollector object, which checks and stores how many agents are happy at the end of each step. It can also generate a pandas DataFrame of the data it has collected:"
   ]
  },
  {
   "cell_type": "code",
   "execution_count": 7,
   "metadata": {},
   "outputs": [],
   "source": [
    "model_vars = model.datacollector.get_model_vars_dataframe()"
   ]
  },
  {
   "cell_type": "code",
   "execution_count": 8,
   "metadata": {},
   "outputs": [
    {
     "data": {
      "text/html": [
       "<div>\n",
       "<style scoped>\n",
       "    .dataframe tbody tr th:only-of-type {\n",
       "        vertical-align: middle;\n",
       "    }\n",
       "\n",
       "    .dataframe tbody tr th {\n",
       "        vertical-align: top;\n",
       "    }\n",
       "\n",
       "    .dataframe thead th {\n",
       "        text-align: right;\n",
       "    }\n",
       "</style>\n",
       "<table border=\"1\" class=\"dataframe\">\n",
       "  <thead>\n",
       "    <tr style=\"text-align: right;\">\n",
       "      <th></th>\n",
       "      <th>perc_happy</th>\n",
       "      <th>tot_seg_avg</th>\n",
       "      <th>num_agents_happy</th>\n",
       "    </tr>\n",
       "  </thead>\n",
       "  <tbody>\n",
       "    <tr>\n",
       "      <th>0</th>\n",
       "      <td>0.500</td>\n",
       "      <td>0.406250</td>\n",
       "      <td>8</td>\n",
       "    </tr>\n",
       "    <tr>\n",
       "      <th>1</th>\n",
       "      <td>0.375</td>\n",
       "      <td>0.390625</td>\n",
       "      <td>6</td>\n",
       "    </tr>\n",
       "  </tbody>\n",
       "</table>\n",
       "</div>"
      ],
      "text/plain": [
       "   perc_happy  tot_seg_avg  num_agents_happy\n",
       "0       0.500     0.406250                 8\n",
       "1       0.375     0.390625                 6"
      ]
     },
     "execution_count": 8,
     "metadata": {},
     "output_type": "execute_result"
    }
   ],
   "source": [
    "model_vars"
   ]
  },
  {
   "cell_type": "markdown",
   "metadata": {},
   "source": [
    "Finally, we can plot the 'happy' series:"
   ]
  },
  {
   "cell_type": "code",
   "execution_count": 68,
   "metadata": {},
   "outputs": [
    {
     "name": "stdout",
     "output_type": "stream",
     "text": [
      "Total agents: 70\n"
     ]
    },
    {
     "data": {
      "image/png": "[encoded data removed]",
      "text/plain": [
       "<Figure size 432x288 with 1 Axes>"
      ]
     },
     "metadata": {
      "needs_background": "light"
     },
     "output_type": "display_data"
    }
   ],
   "source": [
    "print(\"Total agents:\", model.schedule.get_agent_count())\n",
    "\n",
    "\n",
    "model_vars.perc_happy.plot()\n",
    "\n",
    "plt.axis([0, 500, 0.88, 1])\n",
    "plt.title(\"Happy agents\")\n",
    "plt.xlabel(\"Steps\")\n",
    "plt.ylabel(\"Percentage of happy agents\")\n",
    "plt.show()"
   ]
  },
  {
   "cell_type": "markdown",
   "metadata": {},
   "source": [
    "Plot also total segregation in time"
   ]
  },
  {
   "cell_type": "code",
   "execution_count": 70,
   "metadata": {},
   "outputs": [
    {
     "data": {
      "image/png": "[encoded data removed]",
      "text/plain": [
       "<Figure size 432x288 with 1 Axes>"
      ]
     },
     "metadata": {
      "needs_background": "light"
     },
     "output_type": "display_data"
    }
   ],
   "source": [
    "model_vars.tot_seg.plot()\n",
    "\n",
    "plt.title(\"Total segregation\")\n",
    "plt.xlabel(\"Steps\")\n",
    "plt.ylabel(\"Total segregation\")\n",
    "plt.show()"
   ]
  },
  {
   "cell_type": "markdown",
   "metadata": {},
   "source": [
    "For testing purposes, here is a table giving each agent's x and y values at each step."
   ]
  },
  {
   "cell_type": "code",
   "execution_count": 9,
   "metadata": {},
   "outputs": [],
   "source": [
    "agent_vars= model.datacollector.get_agent_vars_dataframe()"
   ]
  },
  {
   "cell_type": "code",
   "execution_count": 72,
   "metadata": {},
   "outputs": [
    {
     "data": {
      "text/html": [
       "<div>\n",
       "<style scoped>\n",
       "    .dataframe tbody tr th:only-of-type {\n",
       "        vertical-align: middle;\n",
       "    }\n",
       "\n",
       "    .dataframe tbody tr th {\n",
       "        vertical-align: top;\n",
       "    }\n",
       "\n",
       "    .dataframe thead th {\n",
       "        text-align: right;\n",
       "    }\n",
       "</style>\n",
       "<table border=\"1\" class=\"dataframe\">\n",
       "  <thead>\n",
       "    <tr style=\"text-align: right;\">\n",
       "      <th></th>\n",
       "      <th></th>\n",
       "      <th>x</th>\n",
       "      <th>y</th>\n",
       "      <th>segregation</th>\n",
       "    </tr>\n",
       "    <tr>\n",
       "      <th>Step</th>\n",
       "      <th>AgentID</th>\n",
       "      <th></th>\n",
       "      <th></th>\n",
       "      <th></th>\n",
       "    </tr>\n",
       "  </thead>\n",
       "  <tbody>\n",
       "    <tr>\n",
       "      <th rowspan=\"5\" valign=\"top\">1</th>\n",
       "      <th>0</th>\n",
       "      <td>7</td>\n",
       "      <td>0</td>\n",
       "      <td>0.25</td>\n",
       "    </tr>\n",
       "    <tr>\n",
       "      <th>1</th>\n",
       "      <td>0</td>\n",
       "      <td>3</td>\n",
       "      <td>0.50</td>\n",
       "    </tr>\n",
       "    <tr>\n",
       "      <th>2</th>\n",
       "      <td>0</td>\n",
       "      <td>4</td>\n",
       "      <td>0.50</td>\n",
       "    </tr>\n",
       "    <tr>\n",
       "      <th>3</th>\n",
       "      <td>0</td>\n",
       "      <td>5</td>\n",
       "      <td>0.50</td>\n",
       "    </tr>\n",
       "    <tr>\n",
       "      <th>4</th>\n",
       "      <td>6</td>\n",
       "      <td>4</td>\n",
       "      <td>0.25</td>\n",
       "    </tr>\n",
       "  </tbody>\n",
       "</table>\n",
       "</div>"
      ],
      "text/plain": [
       "              x  y  segregation\n",
       "Step AgentID                   \n",
       "1    0        7  0         0.25\n",
       "     1        0  3         0.50\n",
       "     2        0  4         0.50\n",
       "     3        0  5         0.50\n",
       "     4        6  4         0.25"
      ]
     },
     "execution_count": 72,
     "metadata": {},
     "output_type": "execute_result"
    }
   ],
   "source": [
    "agent_vars.head()"
   ]
  },
  {
   "cell_type": "code",
   "execution_count": 79,
   "metadata": {},
   "outputs": [
    {
     "data": {
      "text/plain": [
       "Index(['x', 'y', 'segregation'], dtype='object')"
      ]
     },
     "execution_count": 79,
     "metadata": {},
     "output_type": "execute_result"
    }
   ],
   "source": [
    "agent_vars.columns"
   ]
  },
  {
   "cell_type": "code",
   "execution_count": 82,
   "metadata": {},
   "outputs": [
    {
     "data": {
      "text/html": [
       "<div>\n",
       "<style scoped>\n",
       "    .dataframe tbody tr th:only-of-type {\n",
       "        vertical-align: middle;\n",
       "    }\n",
       "\n",
       "    .dataframe tbody tr th {\n",
       "        vertical-align: top;\n",
       "    }\n",
       "\n",
       "    .dataframe thead th {\n",
       "        text-align: right;\n",
       "    }\n",
       "</style>\n",
       "<table border=\"1\" class=\"dataframe\">\n",
       "  <thead>\n",
       "    <tr style=\"text-align: right;\">\n",
       "      <th></th>\n",
       "      <th>x</th>\n",
       "      <th>y</th>\n",
       "      <th>segregation</th>\n",
       "    </tr>\n",
       "    <tr>\n",
       "      <th>AgentID</th>\n",
       "      <th></th>\n",
       "      <th></th>\n",
       "      <th></th>\n",
       "    </tr>\n",
       "  </thead>\n",
       "  <tbody>\n",
       "    <tr>\n",
       "      <th>0</th>\n",
       "      <td>7</td>\n",
       "      <td>0</td>\n",
       "      <td>0.250</td>\n",
       "    </tr>\n",
       "    <tr>\n",
       "      <th>1</th>\n",
       "      <td>0</td>\n",
       "      <td>3</td>\n",
       "      <td>0.500</td>\n",
       "    </tr>\n",
       "    <tr>\n",
       "      <th>2</th>\n",
       "      <td>0</td>\n",
       "      <td>4</td>\n",
       "      <td>0.500</td>\n",
       "    </tr>\n",
       "    <tr>\n",
       "      <th>3</th>\n",
       "      <td>0</td>\n",
       "      <td>5</td>\n",
       "      <td>0.500</td>\n",
       "    </tr>\n",
       "    <tr>\n",
       "      <th>4</th>\n",
       "      <td>6</td>\n",
       "      <td>4</td>\n",
       "      <td>0.250</td>\n",
       "    </tr>\n",
       "    <tr>\n",
       "      <th>...</th>\n",
       "      <td>...</td>\n",
       "      <td>...</td>\n",
       "      <td>...</td>\n",
       "    </tr>\n",
       "    <tr>\n",
       "      <th>65</th>\n",
       "      <td>9</td>\n",
       "      <td>3</td>\n",
       "      <td>0.625</td>\n",
       "    </tr>\n",
       "    <tr>\n",
       "      <th>66</th>\n",
       "      <td>9</td>\n",
       "      <td>4</td>\n",
       "      <td>0.500</td>\n",
       "    </tr>\n",
       "    <tr>\n",
       "      <th>67</th>\n",
       "      <td>7</td>\n",
       "      <td>8</td>\n",
       "      <td>0.250</td>\n",
       "    </tr>\n",
       "    <tr>\n",
       "      <th>68</th>\n",
       "      <td>4</td>\n",
       "      <td>1</td>\n",
       "      <td>0.375</td>\n",
       "    </tr>\n",
       "    <tr>\n",
       "      <th>69</th>\n",
       "      <td>8</td>\n",
       "      <td>0</td>\n",
       "      <td>0.250</td>\n",
       "    </tr>\n",
       "  </tbody>\n",
       "</table>\n",
       "<p>70 rows × 3 columns</p>\n",
       "</div>"
      ],
      "text/plain": [
       "         x  y  segregation\n",
       "AgentID                   \n",
       "0        7  0        0.250\n",
       "1        0  3        0.500\n",
       "2        0  4        0.500\n",
       "3        0  5        0.500\n",
       "4        6  4        0.250\n",
       "...     .. ..          ...\n",
       "65       9  3        0.625\n",
       "66       9  4        0.500\n",
       "67       7  8        0.250\n",
       "68       4  1        0.375\n",
       "69       8  0        0.250\n",
       "\n",
       "[70 rows x 3 columns]"
      ]
     },
     "execution_count": 82,
     "metadata": {},
     "output_type": "execute_result"
    }
   ],
   "source": [
    "agent_vars.loc[1] #accede su singoli step"
   ]
  },
  {
   "cell_type": "code",
   "execution_count": 89,
   "metadata": {},
   "outputs": [
    {
     "data": {
      "text/plain": [
       "x              7.00\n",
       "y              0.00\n",
       "segregation    0.25\n",
       "Name: (1, 0), dtype: float64"
      ]
     },
     "execution_count": 89,
     "metadata": {},
     "output_type": "execute_result"
    }
   ],
   "source": [
    "agent_vars.loc[1,0]"
   ]
  },
  {
   "cell_type": "code",
   "execution_count": 97,
   "metadata": {},
   "outputs": [
    {
     "data": {
      "text/html": [
       "<div>\n",
       "<style scoped>\n",
       "    .dataframe tbody tr th:only-of-type {\n",
       "        vertical-align: middle;\n",
       "    }\n",
       "\n",
       "    .dataframe tbody tr th {\n",
       "        vertical-align: top;\n",
       "    }\n",
       "\n",
       "    .dataframe thead th {\n",
       "        text-align: right;\n",
       "    }\n",
       "</style>\n",
       "<table border=\"1\" class=\"dataframe\">\n",
       "  <thead>\n",
       "    <tr style=\"text-align: right;\">\n",
       "      <th></th>\n",
       "      <th>x</th>\n",
       "      <th>y</th>\n",
       "      <th>segregation</th>\n",
       "    </tr>\n",
       "    <tr>\n",
       "      <th>AgentID</th>\n",
       "      <th></th>\n",
       "      <th></th>\n",
       "      <th></th>\n",
       "    </tr>\n",
       "  </thead>\n",
       "  <tbody>\n",
       "    <tr>\n",
       "      <th>0</th>\n",
       "      <td>7</td>\n",
       "      <td>0</td>\n",
       "      <td>0.25</td>\n",
       "    </tr>\n",
       "    <tr>\n",
       "      <th>1</th>\n",
       "      <td>0</td>\n",
       "      <td>3</td>\n",
       "      <td>0.50</td>\n",
       "    </tr>\n",
       "    <tr>\n",
       "      <th>2</th>\n",
       "      <td>0</td>\n",
       "      <td>4</td>\n",
       "      <td>0.50</td>\n",
       "    </tr>\n",
       "    <tr>\n",
       "      <th>3</th>\n",
       "      <td>0</td>\n",
       "      <td>5</td>\n",
       "      <td>0.50</td>\n",
       "    </tr>\n",
       "  </tbody>\n",
       "</table>\n",
       "</div>"
      ],
      "text/plain": [
       "         x  y  segregation\n",
       "AgentID                   \n",
       "0        7  0         0.25\n",
       "1        0  3         0.50\n",
       "2        0  4         0.50\n",
       "3        0  5         0.50"
      ]
     },
     "execution_count": 97,
     "metadata": {},
     "output_type": "execute_result"
    }
   ],
   "source": [
    "a = agent_vars.loc[1]\n",
    "a.loc[0:3]"
   ]
  },
  {
   "cell_type": "code",
   "execution_count": null,
   "metadata": {},
   "outputs": [],
   "source": []
  },
  {
   "cell_type": "code",
   "execution_count": null,
   "metadata": {},
   "outputs": [],
   "source": []
  },
  {
   "cell_type": "code",
   "execution_count": null,
   "metadata": {},
   "outputs": [],
   "source": []
  },
  {
   "cell_type": "code",
   "execution_count": null,
   "metadata": {},
   "outputs": [],
   "source": []
  },
  {
   "cell_type": "code",
   "execution_count": null,
   "metadata": {},
   "outputs": [],
   "source": []
  },
  {
   "cell_type": "code",
   "execution_count": null,
   "metadata": {},
   "outputs": [],
   "source": []
  },
  {
   "cell_type": "code",
   "execution_count": null,
   "metadata": {},
   "outputs": [],
   "source": []
  },
  {
   "cell_type": "code",
   "execution_count": null,
   "metadata": {},
   "outputs": [],
   "source": []
  },
  {
   "cell_type": "code",
   "execution_count": null,
   "metadata": {},
   "outputs": [],
   "source": []
  },
  {
   "cell_type": "markdown",
   "metadata": {},
   "source": [
    "Effect of Homophily on segregation\n",
    "Now, we can do a parameter sweep to see how segregation changes with homophily.\n",
    "First, we create a function which takes a model instance and returns what fraction of agents are segregated -- that is, have no neighbors of the opposite type."
   ]
  },
  {
   "cell_type": "code",
   "execution_count": 14,
   "metadata": {},
   "outputs": [],
   "source": [
    "import numpy as np\n",
    "import pandas as pd\n",
    "from mesa.batchrunner import batch_run"
   ]
  },
  {
   "cell_type": "markdown",
   "metadata": {},
   "source": [
    "Now, we set up the batch run, with a dictionary of fixed and changing parameters. Let's hold everything fixed except for Homophily."
   ]
  },
  {
   "cell_type": "code",
   "execution_count": 16,
   "metadata": {},
   "outputs": [],
   "source": [
    "parameters = {\"side\": 10, \"density\": 0.8, \"minority_pc\": 0.2, \n",
    "              \"homophily\": np.arange(1/8,9/8,1/8)}"
   ]
  },
  {
   "cell_type": "code",
   "execution_count": 17,
   "metadata": {},
   "outputs": [
    {
     "name": "stderr",
     "output_type": "stream",
     "text": [
      "100%|██████████████████████████████████████████████████████████████████████████████████| 80/80 [01:25<00:00,  1.07s/it]\n"
     ]
    }
   ],
   "source": [
    "#Run a batch of 10 iterations for each of 8 configuration\n",
    "results = batch_run(\n",
    "    SchellingModel,\n",
    "    parameters=parameters,\n",
    "    iterations= 10,\n",
    "    max_steps=500,\n",
    "    number_processes=1,\n",
    "    data_collection_period=1,\n",
    "    display_progress=True,\n",
    ")"
   ]
  },
  {
   "cell_type": "code",
   "execution_count": 18,
   "metadata": {},
   "outputs": [
    {
     "data": {
      "text/html": [
       "<div>\n",
       "<style scoped>\n",
       "    .dataframe tbody tr th:only-of-type {\n",
       "        vertical-align: middle;\n",
       "    }\n",
       "\n",
       "    .dataframe tbody tr th {\n",
       "        vertical-align: top;\n",
       "    }\n",
       "\n",
       "    .dataframe thead th {\n",
       "        text-align: right;\n",
       "    }\n",
       "</style>\n",
       "<table border=\"1\" class=\"dataframe\">\n",
       "  <thead>\n",
       "    <tr style=\"text-align: right;\">\n",
       "      <th></th>\n",
       "      <th>RunId</th>\n",
       "      <th>iteration</th>\n",
       "      <th>Step</th>\n",
       "      <th>side</th>\n",
       "      <th>density</th>\n",
       "      <th>minority_pc</th>\n",
       "      <th>homophily</th>\n",
       "      <th>perc_happy</th>\n",
       "      <th>tot_seg</th>\n",
       "      <th>AgentID</th>\n",
       "      <th>x</th>\n",
       "      <th>y</th>\n",
       "      <th>segregation</th>\n",
       "    </tr>\n",
       "  </thead>\n",
       "  <tbody>\n",
       "    <tr>\n",
       "      <th>0</th>\n",
       "      <td>0</td>\n",
       "      <td>0</td>\n",
       "      <td>0</td>\n",
       "      <td>10</td>\n",
       "      <td>0.8</td>\n",
       "      <td>0.2</td>\n",
       "      <td>0.125</td>\n",
       "      <td>0.886076</td>\n",
       "      <td>0.441456</td>\n",
       "      <td>NaN</td>\n",
       "      <td>NaN</td>\n",
       "      <td>NaN</td>\n",
       "      <td>NaN</td>\n",
       "    </tr>\n",
       "    <tr>\n",
       "      <th>1</th>\n",
       "      <td>0</td>\n",
       "      <td>0</td>\n",
       "      <td>1</td>\n",
       "      <td>10</td>\n",
       "      <td>0.8</td>\n",
       "      <td>0.2</td>\n",
       "      <td>0.125</td>\n",
       "      <td>0.962025</td>\n",
       "      <td>0.468354</td>\n",
       "      <td>0.0</td>\n",
       "      <td>0.0</td>\n",
       "      <td>0.0</td>\n",
       "      <td>0.375</td>\n",
       "    </tr>\n",
       "    <tr>\n",
       "      <th>2</th>\n",
       "      <td>0</td>\n",
       "      <td>0</td>\n",
       "      <td>1</td>\n",
       "      <td>10</td>\n",
       "      <td>0.8</td>\n",
       "      <td>0.2</td>\n",
       "      <td>0.125</td>\n",
       "      <td>0.962025</td>\n",
       "      <td>0.468354</td>\n",
       "      <td>1.0</td>\n",
       "      <td>0.0</td>\n",
       "      <td>1.0</td>\n",
       "      <td>0.375</td>\n",
       "    </tr>\n",
       "    <tr>\n",
       "      <th>3</th>\n",
       "      <td>0</td>\n",
       "      <td>0</td>\n",
       "      <td>1</td>\n",
       "      <td>10</td>\n",
       "      <td>0.8</td>\n",
       "      <td>0.2</td>\n",
       "      <td>0.125</td>\n",
       "      <td>0.962025</td>\n",
       "      <td>0.468354</td>\n",
       "      <td>2.0</td>\n",
       "      <td>0.0</td>\n",
       "      <td>3.0</td>\n",
       "      <td>0.125</td>\n",
       "    </tr>\n",
       "    <tr>\n",
       "      <th>4</th>\n",
       "      <td>0</td>\n",
       "      <td>0</td>\n",
       "      <td>1</td>\n",
       "      <td>10</td>\n",
       "      <td>0.8</td>\n",
       "      <td>0.2</td>\n",
       "      <td>0.125</td>\n",
       "      <td>0.962025</td>\n",
       "      <td>0.468354</td>\n",
       "      <td>3.0</td>\n",
       "      <td>0.0</td>\n",
       "      <td>4.0</td>\n",
       "      <td>0.125</td>\n",
       "    </tr>\n",
       "    <tr>\n",
       "      <th>...</th>\n",
       "      <td>...</td>\n",
       "      <td>...</td>\n",
       "      <td>...</td>\n",
       "      <td>...</td>\n",
       "      <td>...</td>\n",
       "      <td>...</td>\n",
       "      <td>...</td>\n",
       "      <td>...</td>\n",
       "      <td>...</td>\n",
       "      <td>...</td>\n",
       "      <td>...</td>\n",
       "      <td>...</td>\n",
       "      <td>...</td>\n",
       "    </tr>\n",
       "    <tr>\n",
       "      <th>2388576</th>\n",
       "      <td>79</td>\n",
       "      <td>9</td>\n",
       "      <td>500</td>\n",
       "      <td>10</td>\n",
       "      <td>0.8</td>\n",
       "      <td>0.2</td>\n",
       "      <td>1.000</td>\n",
       "      <td>0.012346</td>\n",
       "      <td>0.458333</td>\n",
       "      <td>76.0</td>\n",
       "      <td>1.0</td>\n",
       "      <td>6.0</td>\n",
       "      <td>1.000</td>\n",
       "    </tr>\n",
       "    <tr>\n",
       "      <th>2388577</th>\n",
       "      <td>79</td>\n",
       "      <td>9</td>\n",
       "      <td>500</td>\n",
       "      <td>10</td>\n",
       "      <td>0.8</td>\n",
       "      <td>0.2</td>\n",
       "      <td>1.000</td>\n",
       "      <td>0.012346</td>\n",
       "      <td>0.458333</td>\n",
       "      <td>77.0</td>\n",
       "      <td>4.0</td>\n",
       "      <td>6.0</td>\n",
       "      <td>0.625</td>\n",
       "    </tr>\n",
       "    <tr>\n",
       "      <th>2388578</th>\n",
       "      <td>79</td>\n",
       "      <td>9</td>\n",
       "      <td>500</td>\n",
       "      <td>10</td>\n",
       "      <td>0.8</td>\n",
       "      <td>0.2</td>\n",
       "      <td>1.000</td>\n",
       "      <td>0.012346</td>\n",
       "      <td>0.458333</td>\n",
       "      <td>78.0</td>\n",
       "      <td>6.0</td>\n",
       "      <td>7.0</td>\n",
       "      <td>0.250</td>\n",
       "    </tr>\n",
       "    <tr>\n",
       "      <th>2388579</th>\n",
       "      <td>79</td>\n",
       "      <td>9</td>\n",
       "      <td>500</td>\n",
       "      <td>10</td>\n",
       "      <td>0.8</td>\n",
       "      <td>0.2</td>\n",
       "      <td>1.000</td>\n",
       "      <td>0.012346</td>\n",
       "      <td>0.458333</td>\n",
       "      <td>79.0</td>\n",
       "      <td>5.0</td>\n",
       "      <td>5.0</td>\n",
       "      <td>0.375</td>\n",
       "    </tr>\n",
       "    <tr>\n",
       "      <th>2388580</th>\n",
       "      <td>79</td>\n",
       "      <td>9</td>\n",
       "      <td>500</td>\n",
       "      <td>10</td>\n",
       "      <td>0.8</td>\n",
       "      <td>0.2</td>\n",
       "      <td>1.000</td>\n",
       "      <td>0.012346</td>\n",
       "      <td>0.458333</td>\n",
       "      <td>80.0</td>\n",
       "      <td>1.0</td>\n",
       "      <td>1.0</td>\n",
       "      <td>0.750</td>\n",
       "    </tr>\n",
       "  </tbody>\n",
       "</table>\n",
       "<p>2388581 rows × 13 columns</p>\n",
       "</div>"
      ],
      "text/plain": [
       "         RunId  iteration  Step  side  density  minority_pc  homophily  \\\n",
       "0            0          0     0    10      0.8          0.2      0.125   \n",
       "1            0          0     1    10      0.8          0.2      0.125   \n",
       "2            0          0     1    10      0.8          0.2      0.125   \n",
       "3            0          0     1    10      0.8          0.2      0.125   \n",
       "4            0          0     1    10      0.8          0.2      0.125   \n",
       "...        ...        ...   ...   ...      ...          ...        ...   \n",
       "2388576     79          9   500    10      0.8          0.2      1.000   \n",
       "2388577     79          9   500    10      0.8          0.2      1.000   \n",
       "2388578     79          9   500    10      0.8          0.2      1.000   \n",
       "2388579     79          9   500    10      0.8          0.2      1.000   \n",
       "2388580     79          9   500    10      0.8          0.2      1.000   \n",
       "\n",
       "         perc_happy   tot_seg  AgentID    x    y  segregation  \n",
       "0          0.886076  0.441456      NaN  NaN  NaN          NaN  \n",
       "1          0.962025  0.468354      0.0  0.0  0.0        0.375  \n",
       "2          0.962025  0.468354      1.0  0.0  1.0        0.375  \n",
       "3          0.962025  0.468354      2.0  0.0  3.0        0.125  \n",
       "4          0.962025  0.468354      3.0  0.0  4.0        0.125  \n",
       "...             ...       ...      ...  ...  ...          ...  \n",
       "2388576    0.012346  0.458333     76.0  1.0  6.0        1.000  \n",
       "2388577    0.012346  0.458333     77.0  4.0  6.0        0.625  \n",
       "2388578    0.012346  0.458333     78.0  6.0  7.0        0.250  \n",
       "2388579    0.012346  0.458333     79.0  5.0  5.0        0.375  \n",
       "2388580    0.012346  0.458333     80.0  1.0  1.0        0.750  \n",
       "\n",
       "[2388581 rows x 13 columns]"
      ]
     },
     "execution_count": 18,
     "metadata": {},
     "output_type": "execute_result"
    }
   ],
   "source": [
    "df = pd.DataFrame(results)\n",
    "df"
   ]
  },
  {
   "cell_type": "markdown",
   "metadata": {},
   "source": [
    "For each value of homophily, we look at final total happiness"
   ]
  },
  {
   "cell_type": "code",
   "execution_count": 19,
   "metadata": {},
   "outputs": [
    {
     "data": {
      "image/png": "[encoded data removed]",
      "text/plain": [
       "<Figure size 432x288 with 1 Axes>"
      ]
     },
     "metadata": {
      "needs_background": "light"
     },
     "output_type": "display_data"
    }
   ],
   "source": [
    "hom_iter = df.groupby([\"homophily\",\"iteration\"]).max()[[\"perc_happy\"]]\n",
    "mean_happy = hom_iter.groupby(\"homophily\").mean()[\"perc_happy\"]\n",
    "\n",
    "plt.scatter(np.arange(1/8,9/8,1/8),mean_happy)\n",
    "\n",
    "plt.title(\"Final total hapiness for different levels of homophily\")\n",
    "plt.xlabel(\"Homophily\")\n",
    "plt.ylabel(\"Final percentage of happy agents\")\n",
    "plt.show()"
   ]
  },
  {
   "cell_type": "markdown",
   "metadata": {},
   "source": [
    "We can look at no. of steps"
   ]
  },
  {
   "cell_type": "code",
   "execution_count": 20,
   "metadata": {},
   "outputs": [
    {
     "data": {
      "text/html": [
       "<div>\n",
       "<style scoped>\n",
       "    .dataframe tbody tr th:only-of-type {\n",
       "        vertical-align: middle;\n",
       "    }\n",
       "\n",
       "    .dataframe tbody tr th {\n",
       "        vertical-align: top;\n",
       "    }\n",
       "\n",
       "    .dataframe thead th {\n",
       "        text-align: right;\n",
       "    }\n",
       "</style>\n",
       "<table border=\"1\" class=\"dataframe\">\n",
       "  <thead>\n",
       "    <tr style=\"text-align: right;\">\n",
       "      <th></th>\n",
       "      <th>Step</th>\n",
       "    </tr>\n",
       "    <tr>\n",
       "      <th>homophily</th>\n",
       "      <th></th>\n",
       "    </tr>\n",
       "  </thead>\n",
       "  <tbody>\n",
       "    <tr>\n",
       "      <th>0.125</th>\n",
       "      <td>6</td>\n",
       "    </tr>\n",
       "    <tr>\n",
       "      <th>0.250</th>\n",
       "      <td>500</td>\n",
       "    </tr>\n",
       "    <tr>\n",
       "      <th>0.375</th>\n",
       "      <td>500</td>\n",
       "    </tr>\n",
       "    <tr>\n",
       "      <th>0.500</th>\n",
       "      <td>500</td>\n",
       "    </tr>\n",
       "    <tr>\n",
       "      <th>0.625</th>\n",
       "      <td>500</td>\n",
       "    </tr>\n",
       "    <tr>\n",
       "      <th>0.750</th>\n",
       "      <td>500</td>\n",
       "    </tr>\n",
       "    <tr>\n",
       "      <th>0.875</th>\n",
       "      <td>500</td>\n",
       "    </tr>\n",
       "    <tr>\n",
       "      <th>1.000</th>\n",
       "      <td>500</td>\n",
       "    </tr>\n",
       "  </tbody>\n",
       "</table>\n",
       "</div>"
      ],
      "text/plain": [
       "           Step\n",
       "homophily      \n",
       "0.125         6\n",
       "0.250       500\n",
       "0.375       500\n",
       "0.500       500\n",
       "0.625       500\n",
       "0.750       500\n",
       "0.875       500\n",
       "1.000       500"
      ]
     },
     "execution_count": 20,
     "metadata": {},
     "output_type": "execute_result"
    }
   ],
   "source": [
    "df.groupby([\"homophily\"]).max()[[\"Step\"]]"
   ]
  },
  {
   "cell_type": "markdown",
   "metadata": {},
   "source": [
    "We plot the mean (on 10 interations) of final segregation for evert homophily level"
   ]
  },
  {
   "cell_type": "code",
   "execution_count": 21,
   "metadata": {},
   "outputs": [
    {
     "data": {
      "image/png": "[encoded data removed]",
      "text/plain": [
       "<Figure size 432x288 with 1 Axes>"
      ]
     },
     "metadata": {
      "needs_background": "light"
     },
     "output_type": "display_data"
    }
   ],
   "source": [
    "hom_iter = df.groupby([\"homophily\",\"iteration\"]).max()[[\"tot_seg\"]]\n",
    "tot_seg = hom_iter.groupby(\"homophily\").mean()[\"tot_seg\"]\n",
    "\n",
    "plt.scatter(np.arange(1/8,9/8,1/8),tot_seg)\n",
    "\n",
    "\n",
    "plt.title(\"Final segregation for different level of homophily\")\n",
    "plt.xlabel(\"Homophily\")\n",
    "plt.ylabel(\"Final segregation\")\n",
    "plt.show()"
   ]
  },
  {
   "cell_type": "markdown",
   "metadata": {},
   "source": [
    "We now have a look to segregation over steps for the highest level of homophily"
   ]
  },
  {
   "cell_type": "code",
   "execution_count": 23,
   "metadata": {},
   "outputs": [
    {
     "data": {
      "image/png": "[encoded data removed]",
      "text/plain": [
       "<Figure size 432x288 with 1 Axes>"
      ]
     },
     "metadata": {
      "needs_background": "light"
     },
     "output_type": "display_data"
    }
   ],
   "source": [
    "plt.plot(df[(df[\"AgentID\"]==1) & (df[\"homophily\"]==7/8) & (df[\"iteration\"]==0)].reset_index()[\"tot_seg\"])\n",
    "\n",
    "plt.title(\"Segregation over steps for homphily=7/8\")\n",
    "plt.xlabel(\"Steps\")\n",
    "plt.ylabel(\"Segregation\")\n",
    "plt.show()"
   ]
  },
  {
   "cell_type": "markdown",
   "metadata": {},
   "source": [
    "Now, we can do a parameter sweep to see how segregation changes with minority_pc"
   ]
  },
  {
   "cell_type": "code",
   "execution_count": 24,
   "metadata": {},
   "outputs": [
    {
     "name": "stderr",
     "output_type": "stream",
     "text": [
      "100%|██████████████████████████████████████████████████████████████████████████████████| 50/50 [00:22<00:00,  2.22it/s]\n"
     ]
    }
   ],
   "source": [
    "parameters = {\"side\": 10, \"density\": 0.8, \"minority_pc\": [.1,.2, .3,.4, .5], \n",
    "              \"homophily\": 0.3}\n",
    "\n",
    "results = batch_run(\n",
    "    SchellingModel,\n",
    "    parameters=parameters,\n",
    "    iterations= 10,\n",
    "    max_steps=500,\n",
    "    number_processes=1,\n",
    "    data_collection_period=1,\n",
    "    display_progress=True,\n",
    ")"
   ]
  },
  {
   "cell_type": "code",
   "execution_count": 25,
   "metadata": {},
   "outputs": [],
   "source": [
    "df = pd.DataFrame(results)"
   ]
  },
  {
   "cell_type": "code",
   "execution_count": 26,
   "metadata": {},
   "outputs": [
    {
     "data": {
      "image/png": "[encoded data removed]",
      "text/plain": [
       "<Figure size 432x288 with 1 Axes>"
      ]
     },
     "metadata": {
      "needs_background": "light"
     },
     "output_type": "display_data"
    }
   ],
   "source": [
    "min_iter = df.groupby([\"minority_pc\",\"iteration\"]).max()[[\"tot_seg\"]]\n",
    "min_iter\n",
    "plt.scatter(np.repeat([.1,.2,.3,.4,.5],10),min_iter)\n",
    "\n",
    "\n",
    "plt.title(\"Final segregation for different level of minority percentage\")\n",
    "plt.xlabel(\"minority_pc\")\n",
    "plt.ylabel(\"Final segregation\")\n",
    "plt.ylim(0, 1)\n",
    "\n",
    "plt.show()"
   ]
  },
  {
   "cell_type": "code",
   "execution_count": 27,
   "metadata": {},
   "outputs": [
    {
     "data": {
      "text/html": [
       "<div>\n",
       "<style scoped>\n",
       "    .dataframe tbody tr th:only-of-type {\n",
       "        vertical-align: middle;\n",
       "    }\n",
       "\n",
       "    .dataframe tbody tr th {\n",
       "        vertical-align: top;\n",
       "    }\n",
       "\n",
       "    .dataframe thead th {\n",
       "        text-align: right;\n",
       "    }\n",
       "</style>\n",
       "<table border=\"1\" class=\"dataframe\">\n",
       "  <thead>\n",
       "    <tr style=\"text-align: right;\">\n",
       "      <th></th>\n",
       "      <th>Step</th>\n",
       "    </tr>\n",
       "    <tr>\n",
       "      <th>minority_pc</th>\n",
       "      <th></th>\n",
       "    </tr>\n",
       "  </thead>\n",
       "  <tbody>\n",
       "    <tr>\n",
       "      <th>0.1</th>\n",
       "      <td>500</td>\n",
       "    </tr>\n",
       "    <tr>\n",
       "      <th>0.2</th>\n",
       "      <td>500</td>\n",
       "    </tr>\n",
       "    <tr>\n",
       "      <th>0.3</th>\n",
       "      <td>500</td>\n",
       "    </tr>\n",
       "    <tr>\n",
       "      <th>0.4</th>\n",
       "      <td>500</td>\n",
       "    </tr>\n",
       "    <tr>\n",
       "      <th>0.5</th>\n",
       "      <td>500</td>\n",
       "    </tr>\n",
       "  </tbody>\n",
       "</table>\n",
       "</div>"
      ],
      "text/plain": [
       "             Step\n",
       "minority_pc      \n",
       "0.1           500\n",
       "0.2           500\n",
       "0.3           500\n",
       "0.4           500\n",
       "0.5           500"
      ]
     },
     "execution_count": 27,
     "metadata": {},
     "output_type": "execute_result"
    }
   ],
   "source": [
    "df.groupby([\"minority_pc\"]).max()[[\"Step\"]]"
   ]
  },
  {
   "cell_type": "code",
   "execution_count": 29,
   "metadata": {},
   "outputs": [
    {
     "data": {
      "text/html": [
       "<div>\n",
       "<style scoped>\n",
       "    .dataframe tbody tr th:only-of-type {\n",
       "        vertical-align: middle;\n",
       "    }\n",
       "\n",
       "    .dataframe tbody tr th {\n",
       "        vertical-align: top;\n",
       "    }\n",
       "\n",
       "    .dataframe thead th {\n",
       "        text-align: right;\n",
       "    }\n",
       "</style>\n",
       "<table border=\"1\" class=\"dataframe\">\n",
       "  <thead>\n",
       "    <tr style=\"text-align: right;\">\n",
       "      <th></th>\n",
       "      <th>RunId</th>\n",
       "      <th>iteration</th>\n",
       "      <th>Step</th>\n",
       "      <th>side</th>\n",
       "      <th>density</th>\n",
       "      <th>minority_pc</th>\n",
       "      <th>homophily</th>\n",
       "      <th>perc_happy</th>\n",
       "      <th>tot_seg</th>\n",
       "      <th>AgentID</th>\n",
       "      <th>x</th>\n",
       "      <th>y</th>\n",
       "      <th>segregation</th>\n",
       "    </tr>\n",
       "  </thead>\n",
       "  <tbody>\n",
       "    <tr>\n",
       "      <th>0</th>\n",
       "      <td>0</td>\n",
       "      <td>0</td>\n",
       "      <td>0</td>\n",
       "      <td>10</td>\n",
       "      <td>0.8</td>\n",
       "      <td>0.1</td>\n",
       "      <td>0.3</td>\n",
       "      <td>0.915663</td>\n",
       "      <td>0.671687</td>\n",
       "      <td>NaN</td>\n",
       "      <td>NaN</td>\n",
       "      <td>NaN</td>\n",
       "      <td>NaN</td>\n",
       "    </tr>\n",
       "    <tr>\n",
       "      <th>1</th>\n",
       "      <td>0</td>\n",
       "      <td>0</td>\n",
       "      <td>1</td>\n",
       "      <td>10</td>\n",
       "      <td>0.8</td>\n",
       "      <td>0.1</td>\n",
       "      <td>0.3</td>\n",
       "      <td>0.939759</td>\n",
       "      <td>0.677711</td>\n",
       "      <td>0.0</td>\n",
       "      <td>9.0</td>\n",
       "      <td>1.0</td>\n",
       "      <td>0.250</td>\n",
       "    </tr>\n",
       "    <tr>\n",
       "      <th>2</th>\n",
       "      <td>0</td>\n",
       "      <td>0</td>\n",
       "      <td>1</td>\n",
       "      <td>10</td>\n",
       "      <td>0.8</td>\n",
       "      <td>0.1</td>\n",
       "      <td>0.3</td>\n",
       "      <td>0.939759</td>\n",
       "      <td>0.677711</td>\n",
       "      <td>1.0</td>\n",
       "      <td>0.0</td>\n",
       "      <td>1.0</td>\n",
       "      <td>0.500</td>\n",
       "    </tr>\n",
       "    <tr>\n",
       "      <th>3</th>\n",
       "      <td>0</td>\n",
       "      <td>0</td>\n",
       "      <td>1</td>\n",
       "      <td>10</td>\n",
       "      <td>0.8</td>\n",
       "      <td>0.1</td>\n",
       "      <td>0.3</td>\n",
       "      <td>0.939759</td>\n",
       "      <td>0.677711</td>\n",
       "      <td>2.0</td>\n",
       "      <td>0.0</td>\n",
       "      <td>2.0</td>\n",
       "      <td>0.625</td>\n",
       "    </tr>\n",
       "    <tr>\n",
       "      <th>4</th>\n",
       "      <td>0</td>\n",
       "      <td>0</td>\n",
       "      <td>1</td>\n",
       "      <td>10</td>\n",
       "      <td>0.8</td>\n",
       "      <td>0.1</td>\n",
       "      <td>0.3</td>\n",
       "      <td>0.939759</td>\n",
       "      <td>0.677711</td>\n",
       "      <td>3.0</td>\n",
       "      <td>0.0</td>\n",
       "      <td>3.0</td>\n",
       "      <td>0.500</td>\n",
       "    </tr>\n",
       "  </tbody>\n",
       "</table>\n",
       "</div>"
      ],
      "text/plain": [
       "   RunId  iteration  Step  side  density  minority_pc  homophily  perc_happy  \\\n",
       "0      0          0     0    10      0.8          0.1        0.3    0.915663   \n",
       "1      0          0     1    10      0.8          0.1        0.3    0.939759   \n",
       "2      0          0     1    10      0.8          0.1        0.3    0.939759   \n",
       "3      0          0     1    10      0.8          0.1        0.3    0.939759   \n",
       "4      0          0     1    10      0.8          0.1        0.3    0.939759   \n",
       "\n",
       "    tot_seg  AgentID    x    y  segregation  \n",
       "0  0.671687      NaN  NaN  NaN          NaN  \n",
       "1  0.677711      0.0  9.0  1.0        0.250  \n",
       "2  0.677711      1.0  0.0  1.0        0.500  \n",
       "3  0.677711      2.0  0.0  2.0        0.625  \n",
       "4  0.677711      3.0  0.0  3.0        0.500  "
      ]
     },
     "execution_count": 29,
     "metadata": {},
     "output_type": "execute_result"
    }
   ],
   "source": [
    "df.head()"
   ]
  },
  {
   "cell_type": "code",
   "execution_count": 9,
   "metadata": {},
   "outputs": [
    {
     "data": {
      "text/html": [
       "<div>\n",
       "<style scoped>\n",
       "    .dataframe tbody tr th:only-of-type {\n",
       "        vertical-align: middle;\n",
       "    }\n",
       "\n",
       "    .dataframe tbody tr th {\n",
       "        vertical-align: top;\n",
       "    }\n",
       "\n",
       "    .dataframe thead th {\n",
       "        text-align: right;\n",
       "    }\n",
       "</style>\n",
       "<table border=\"1\" class=\"dataframe\">\n",
       "  <thead>\n",
       "    <tr style=\"text-align: right;\">\n",
       "      <th></th>\n",
       "      <th>x</th>\n",
       "      <th>y</th>\n",
       "      <th>happiness</th>\n",
       "    </tr>\n",
       "  </thead>\n",
       "  <tbody>\n",
       "    <tr>\n",
       "      <th>0</th>\n",
       "      <td>0</td>\n",
       "      <td>0</td>\n",
       "      <td>0</td>\n",
       "    </tr>\n",
       "    <tr>\n",
       "      <th>1</th>\n",
       "      <td>0</td>\n",
       "      <td>0</td>\n",
       "      <td>0</td>\n",
       "    </tr>\n",
       "    <tr>\n",
       "      <th>2</th>\n",
       "      <td>0</td>\n",
       "      <td>0</td>\n",
       "      <td>0</td>\n",
       "    </tr>\n",
       "    <tr>\n",
       "      <th>3</th>\n",
       "      <td>0</td>\n",
       "      <td>0</td>\n",
       "      <td>0</td>\n",
       "    </tr>\n",
       "    <tr>\n",
       "      <th>4</th>\n",
       "      <td>0</td>\n",
       "      <td>0</td>\n",
       "      <td>0</td>\n",
       "    </tr>\n",
       "    <tr>\n",
       "      <th>5</th>\n",
       "      <td>0</td>\n",
       "      <td>0</td>\n",
       "      <td>0</td>\n",
       "    </tr>\n",
       "    <tr>\n",
       "      <th>6</th>\n",
       "      <td>0</td>\n",
       "      <td>0</td>\n",
       "      <td>0</td>\n",
       "    </tr>\n",
       "    <tr>\n",
       "      <th>7</th>\n",
       "      <td>0</td>\n",
       "      <td>0</td>\n",
       "      <td>0</td>\n",
       "    </tr>\n",
       "    <tr>\n",
       "      <th>8</th>\n",
       "      <td>0</td>\n",
       "      <td>0</td>\n",
       "      <td>0</td>\n",
       "    </tr>\n",
       "    <tr>\n",
       "      <th>9</th>\n",
       "      <td>0</td>\n",
       "      <td>0</td>\n",
       "      <td>0</td>\n",
       "    </tr>\n",
       "  </tbody>\n",
       "</table>\n",
       "</div>"
      ],
      "text/plain": [
       "   x  y  happiness\n",
       "0  0  0          0\n",
       "1  0  0          0\n",
       "2  0  0          0\n",
       "3  0  0          0\n",
       "4  0  0          0\n",
       "5  0  0          0\n",
       "6  0  0          0\n",
       "7  0  0          0\n",
       "8  0  0          0\n",
       "9  0  0          0"
      ]
     },
     "execution_count": 9,
     "metadata": {},
     "output_type": "execute_result"
    }
   ],
   "source": [
    "import pandas as pd\n",
    "import numpy as np\n",
    "d = pd.DataFrame(0, index=np.arange(10), columns=['x','y','happiness'])\n",
    "d"
   ]
  },
  {
   "cell_type": "code",
   "execution_count": 10,
   "metadata": {},
   "outputs": [
    {
     "data": {
      "text/html": [
       "<div>\n",
       "<style scoped>\n",
       "    .dataframe tbody tr th:only-of-type {\n",
       "        vertical-align: middle;\n",
       "    }\n",
       "\n",
       "    .dataframe tbody tr th {\n",
       "        vertical-align: top;\n",
       "    }\n",
       "\n",
       "    .dataframe thead th {\n",
       "        text-align: right;\n",
       "    }\n",
       "</style>\n",
       "<table border=\"1\" class=\"dataframe\">\n",
       "  <thead>\n",
       "    <tr style=\"text-align: right;\">\n",
       "      <th></th>\n",
       "      <th>x</th>\n",
       "      <th>y</th>\n",
       "      <th>happiness</th>\n",
       "    </tr>\n",
       "  </thead>\n",
       "  <tbody>\n",
       "    <tr>\n",
       "      <th>0</th>\n",
       "      <td>0</td>\n",
       "      <td>0</td>\n",
       "      <td>52</td>\n",
       "    </tr>\n",
       "    <tr>\n",
       "      <th>1</th>\n",
       "      <td>0</td>\n",
       "      <td>0</td>\n",
       "      <td>52</td>\n",
       "    </tr>\n",
       "    <tr>\n",
       "      <th>2</th>\n",
       "      <td>0</td>\n",
       "      <td>0</td>\n",
       "      <td>52</td>\n",
       "    </tr>\n",
       "    <tr>\n",
       "      <th>3</th>\n",
       "      <td>0</td>\n",
       "      <td>0</td>\n",
       "      <td>52</td>\n",
       "    </tr>\n",
       "    <tr>\n",
       "      <th>4</th>\n",
       "      <td>0</td>\n",
       "      <td>0</td>\n",
       "      <td>52</td>\n",
       "    </tr>\n",
       "    <tr>\n",
       "      <th>5</th>\n",
       "      <td>0</td>\n",
       "      <td>0</td>\n",
       "      <td>52</td>\n",
       "    </tr>\n",
       "    <tr>\n",
       "      <th>6</th>\n",
       "      <td>0</td>\n",
       "      <td>0</td>\n",
       "      <td>52</td>\n",
       "    </tr>\n",
       "    <tr>\n",
       "      <th>7</th>\n",
       "      <td>0</td>\n",
       "      <td>0</td>\n",
       "      <td>52</td>\n",
       "    </tr>\n",
       "    <tr>\n",
       "      <th>8</th>\n",
       "      <td>0</td>\n",
       "      <td>0</td>\n",
       "      <td>52</td>\n",
       "    </tr>\n",
       "    <tr>\n",
       "      <th>9</th>\n",
       "      <td>0</td>\n",
       "      <td>0</td>\n",
       "      <td>52</td>\n",
       "    </tr>\n",
       "  </tbody>\n",
       "</table>\n",
       "</div>"
      ],
      "text/plain": [
       "   x  y  happiness\n",
       "0  0  0         52\n",
       "1  0  0         52\n",
       "2  0  0         52\n",
       "3  0  0         52\n",
       "4  0  0         52\n",
       "5  0  0         52\n",
       "6  0  0         52\n",
       "7  0  0         52\n",
       "8  0  0         52\n",
       "9  0  0         52"
      ]
     },
     "execution_count": 10,
     "metadata": {},
     "output_type": "execute_result"
    }
   ],
   "source": [
    "d.loc[(d[\"x\"] == 0) & (d[\"y\"] == 0), \"happiness\"] = 52\n",
    "d"
   ]
  },
  {
   "cell_type": "code",
   "execution_count": null,
   "metadata": {},
   "outputs": [],
   "source": []
  },
  {
   "cell_type": "code",
   "execution_count": 11,
   "metadata": {},
   "outputs": [
    {
     "data": {
      "text/html": [
       "<div>\n",
       "<style scoped>\n",
       "    .dataframe tbody tr th:only-of-type {\n",
       "        vertical-align: middle;\n",
       "    }\n",
       "\n",
       "    .dataframe tbody tr th {\n",
       "        vertical-align: top;\n",
       "    }\n",
       "\n",
       "    .dataframe thead th {\n",
       "        text-align: right;\n",
       "    }\n",
       "</style>\n",
       "<table border=\"1\" class=\"dataframe\">\n",
       "  <thead>\n",
       "    <tr style=\"text-align: right;\">\n",
       "      <th></th>\n",
       "      <th>x</th>\n",
       "      <th>y</th>\n",
       "      <th>happiness</th>\n",
       "    </tr>\n",
       "  </thead>\n",
       "  <tbody>\n",
       "    <tr>\n",
       "      <th>0</th>\n",
       "      <td>0</td>\n",
       "      <td>0</td>\n",
       "      <td>1</td>\n",
       "    </tr>\n",
       "    <tr>\n",
       "      <th>1</th>\n",
       "      <td>0</td>\n",
       "      <td>0</td>\n",
       "      <td>52</td>\n",
       "    </tr>\n",
       "    <tr>\n",
       "      <th>2</th>\n",
       "      <td>0</td>\n",
       "      <td>0</td>\n",
       "      <td>52</td>\n",
       "    </tr>\n",
       "    <tr>\n",
       "      <th>3</th>\n",
       "      <td>0</td>\n",
       "      <td>0</td>\n",
       "      <td>52</td>\n",
       "    </tr>\n",
       "    <tr>\n",
       "      <th>4</th>\n",
       "      <td>0</td>\n",
       "      <td>0</td>\n",
       "      <td>52</td>\n",
       "    </tr>\n",
       "    <tr>\n",
       "      <th>5</th>\n",
       "      <td>0</td>\n",
       "      <td>0</td>\n",
       "      <td>52</td>\n",
       "    </tr>\n",
       "    <tr>\n",
       "      <th>6</th>\n",
       "      <td>0</td>\n",
       "      <td>0</td>\n",
       "      <td>52</td>\n",
       "    </tr>\n",
       "    <tr>\n",
       "      <th>7</th>\n",
       "      <td>0</td>\n",
       "      <td>0</td>\n",
       "      <td>52</td>\n",
       "    </tr>\n",
       "    <tr>\n",
       "      <th>8</th>\n",
       "      <td>0</td>\n",
       "      <td>0</td>\n",
       "      <td>52</td>\n",
       "    </tr>\n",
       "    <tr>\n",
       "      <th>9</th>\n",
       "      <td>0</td>\n",
       "      <td>0</td>\n",
       "      <td>52</td>\n",
       "    </tr>\n",
       "  </tbody>\n",
       "</table>\n",
       "</div>"
      ],
      "text/plain": [
       "   x  y  happiness\n",
       "0  0  0          1\n",
       "1  0  0         52\n",
       "2  0  0         52\n",
       "3  0  0         52\n",
       "4  0  0         52\n",
       "5  0  0         52\n",
       "6  0  0         52\n",
       "7  0  0         52\n",
       "8  0  0         52\n",
       "9  0  0         52"
      ]
     },
     "execution_count": 11,
     "metadata": {},
     "output_type": "execute_result"
    }
   ],
   "source": [
    "d.iloc[0]['happiness'] = 1\n",
    "d"
   ]
  },
  {
   "cell_type": "code",
   "execution_count": 12,
   "metadata": {},
   "outputs": [
    {
     "data": {
      "text/html": [
       "<div>\n",
       "<style scoped>\n",
       "    .dataframe tbody tr th:only-of-type {\n",
       "        vertical-align: middle;\n",
       "    }\n",
       "\n",
       "    .dataframe tbody tr th {\n",
       "        vertical-align: top;\n",
       "    }\n",
       "\n",
       "    .dataframe thead th {\n",
       "        text-align: right;\n",
       "    }\n",
       "</style>\n",
       "<table border=\"1\" class=\"dataframe\">\n",
       "  <thead>\n",
       "    <tr style=\"text-align: right;\">\n",
       "      <th></th>\n",
       "      <th>index</th>\n",
       "      <th>x</th>\n",
       "      <th>y</th>\n",
       "      <th>happiness</th>\n",
       "    </tr>\n",
       "  </thead>\n",
       "  <tbody>\n",
       "    <tr>\n",
       "      <th>0</th>\n",
       "      <td>1</td>\n",
       "      <td>0</td>\n",
       "      <td>0</td>\n",
       "      <td>52</td>\n",
       "    </tr>\n",
       "    <tr>\n",
       "      <th>1</th>\n",
       "      <td>2</td>\n",
       "      <td>0</td>\n",
       "      <td>0</td>\n",
       "      <td>52</td>\n",
       "    </tr>\n",
       "    <tr>\n",
       "      <th>2</th>\n",
       "      <td>3</td>\n",
       "      <td>0</td>\n",
       "      <td>0</td>\n",
       "      <td>52</td>\n",
       "    </tr>\n",
       "    <tr>\n",
       "      <th>3</th>\n",
       "      <td>4</td>\n",
       "      <td>0</td>\n",
       "      <td>0</td>\n",
       "      <td>52</td>\n",
       "    </tr>\n",
       "    <tr>\n",
       "      <th>4</th>\n",
       "      <td>5</td>\n",
       "      <td>0</td>\n",
       "      <td>0</td>\n",
       "      <td>52</td>\n",
       "    </tr>\n",
       "    <tr>\n",
       "      <th>5</th>\n",
       "      <td>6</td>\n",
       "      <td>0</td>\n",
       "      <td>0</td>\n",
       "      <td>52</td>\n",
       "    </tr>\n",
       "    <tr>\n",
       "      <th>6</th>\n",
       "      <td>7</td>\n",
       "      <td>0</td>\n",
       "      <td>0</td>\n",
       "      <td>52</td>\n",
       "    </tr>\n",
       "    <tr>\n",
       "      <th>7</th>\n",
       "      <td>8</td>\n",
       "      <td>0</td>\n",
       "      <td>0</td>\n",
       "      <td>52</td>\n",
       "    </tr>\n",
       "    <tr>\n",
       "      <th>8</th>\n",
       "      <td>9</td>\n",
       "      <td>0</td>\n",
       "      <td>0</td>\n",
       "      <td>52</td>\n",
       "    </tr>\n",
       "    <tr>\n",
       "      <th>9</th>\n",
       "      <td>0</td>\n",
       "      <td>0</td>\n",
       "      <td>0</td>\n",
       "      <td>1</td>\n",
       "    </tr>\n",
       "  </tbody>\n",
       "</table>\n",
       "</div>"
      ],
      "text/plain": [
       "   index  x  y  happiness\n",
       "0      1  0  0         52\n",
       "1      2  0  0         52\n",
       "2      3  0  0         52\n",
       "3      4  0  0         52\n",
       "4      5  0  0         52\n",
       "5      6  0  0         52\n",
       "6      7  0  0         52\n",
       "7      8  0  0         52\n",
       "8      9  0  0         52\n",
       "9      0  0  0          1"
      ]
     },
     "execution_count": 12,
     "metadata": {},
     "output_type": "execute_result"
    }
   ],
   "source": [
    "d.sort_values(by=\"happiness\", inplace = True, ascending = False)\n",
    "d.reset_index(inplace = True)\n",
    "d"
   ]
  },
  {
   "cell_type": "code",
   "execution_count": 13,
   "metadata": {},
   "outputs": [
    {
     "data": {
      "text/html": [
       "<div>\n",
       "<style scoped>\n",
       "    .dataframe tbody tr th:only-of-type {\n",
       "        vertical-align: middle;\n",
       "    }\n",
       "\n",
       "    .dataframe tbody tr th {\n",
       "        vertical-align: top;\n",
       "    }\n",
       "\n",
       "    .dataframe thead th {\n",
       "        text-align: right;\n",
       "    }\n",
       "</style>\n",
       "<table border=\"1\" class=\"dataframe\">\n",
       "  <thead>\n",
       "    <tr style=\"text-align: right;\">\n",
       "      <th></th>\n",
       "      <th>level_0</th>\n",
       "      <th>index</th>\n",
       "      <th>x</th>\n",
       "      <th>y</th>\n",
       "      <th>happiness</th>\n",
       "    </tr>\n",
       "  </thead>\n",
       "  <tbody>\n",
       "  </tbody>\n",
       "</table>\n",
       "</div>"
      ],
      "text/plain": [
       "Empty DataFrame\n",
       "Columns: [level_0, index, x, y, happiness]\n",
       "Index: []"
      ]
     },
     "execution_count": 13,
     "metadata": {},
     "output_type": "execute_result"
    }
   ],
   "source": [
    "d_happy = d[d[\"happiness\"]>53]\n",
    "d_happy.reset_index(inplace=True)\n",
    "d_happy"
   ]
  },
  {
   "cell_type": "code",
   "execution_count": 18,
   "metadata": {},
   "outputs": [
    {
     "data": {
      "text/plain": [
       "True"
      ]
     },
     "execution_count": 18,
     "metadata": {},
     "output_type": "execute_result"
    }
   ],
   "source": [
    "d_happy.empty"
   ]
  },
  {
   "cell_type": "code",
   "execution_count": null,
   "metadata": {},
   "outputs": [],
   "source": []
  }
 ],
 "metadata": {
  "kernelspec": {
   "display_name": "Python 3",
   "language": "python",
   "name": "python3"
  },
  "language_info": {
   "codemirror_mode": {
    "name": "ipython",
    "version": 3
   },
   "file_extension": ".py",
   "mimetype": "text/x-python",
   "name": "python",
   "nbconvert_exporter": "python",
   "pygments_lexer": "ipython3",
   "version": "3.8.5"
  }
 },
 "nbformat": 4,
 "nbformat_minor": 4
}
